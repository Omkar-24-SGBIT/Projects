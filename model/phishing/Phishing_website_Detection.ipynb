{
  "metadata": {
    "kernelspec": {
      "language": "python",
      "display_name": "Python 3",
      "name": "python3"
    },
    "language_info": {
      "pygments_lexer": "ipython3",
      "nbconvert_exporter": "python",
      "version": "3.6.4",
      "file_extension": ".py",
      "codemirror_mode": {
        "name": "ipython",
        "version": 3
      },
      "name": "python",
      "mimetype": "text/x-python"
    },
    "colab": {
      "name": "Phishing website Detection",
      "provenance": []
    }
  },
  "nbformat_minor": 0,
  "nbformat": 4,
  "cells": [
    {
      "source": [
        "\n",
        "# IMPORTANT: RUN THIS CELL IN ORDER TO IMPORT YOUR KAGGLE DATA SOURCES\n",
        "# TO THE CORRECT LOCATION (/kaggle/input) IN YOUR NOTEBOOK,\n",
        "# THEN FEEL FREE TO DELETE THIS CELL.\n",
        "# NOTE: THIS NOTEBOOK ENVIRONMENT DIFFERS FROM KAGGLE'S PYTHON\n",
        "# ENVIRONMENT SO THERE MAY BE MISSING LIBRARIES USED BY YOUR\n",
        "# NOTEBOOK.\n",
        "\n",
        "import os\n",
        "import sys\n",
        "from tempfile import NamedTemporaryFile\n",
        "from urllib.request import urlopen\n",
        "from urllib.parse import unquote, urlparse\n",
        "from urllib.error import HTTPError\n",
        "from zipfile import ZipFile\n",
        "import tarfile\n",
        "import shutil\n",
        "\n",
        "CHUNK_SIZE = 40960\n",
        "DATA_SOURCE_MAPPING = 'phishing-website-dataset:https%3A%2F%2Fstorage.googleapis.com%2Fkaggle-data-sets%2F10598%2F14849%2Fbundle%2Farchive.zip%3FX-Goog-Algorithm%3DGOOG4-RSA-SHA256%26X-Goog-Credential%3Dgcp-kaggle-com%2540kaggle-161607.iam.gserviceaccount.com%252F20240318%252Fauto%252Fstorage%252Fgoog4_request%26X-Goog-Date%3D20240318T164949Z%26X-Goog-Expires%3D259200%26X-Goog-SignedHeaders%3Dhost%26X-Goog-Signature%3Db3138694eda36d88f2612e0e0e267384876b6d2486e34c4bcaee3fe20bd6db475a78b7bc6807e3b699565544083cd56b3e78a0f1ef10060c3f6549d7df954f4a5e50658c2e1fc682077f4f9514194b79e100ecc9883386871631d490f973cdcd3e2d312de1bbd2b0552af218d88721feec310819745b39d450d477d114086cb571f0b1c8225ce968c175e34bb207c055a11dc4a942b0dd1f95dc3c7f1a224ff6c326ceb07645a5b1cf804896b72845eed3c5a295ba13191623bcdba729964da230c5e905bd8500b141fa3d58e5ccd63dcd4b680061088995548e1be4ce818b7d1a5dbb14cdf13c0c23f568232381e40bcfe8600155bcc2e0e0b51eb12db79903'\n",
        "\n",
        "KAGGLE_INPUT_PATH='/kaggle/input'\n",
        "KAGGLE_WORKING_PATH='/kaggle/working'\n",
        "KAGGLE_SYMLINK='kaggle'\n",
        "\n",
        "!umount /kaggle/input/ 2> /dev/null\n",
        "shutil.rmtree('/kaggle/input', ignore_errors=True)\n",
        "os.makedirs(KAGGLE_INPUT_PATH, 0o777, exist_ok=True)\n",
        "os.makedirs(KAGGLE_WORKING_PATH, 0o777, exist_ok=True)\n",
        "\n",
        "try:\n",
        "  os.symlink(KAGGLE_INPUT_PATH, os.path.join(\"..\", 'input'), target_is_directory=True)\n",
        "except FileExistsError:\n",
        "  pass\n",
        "try:\n",
        "  os.symlink(KAGGLE_WORKING_PATH, os.path.join(\"..\", 'working'), target_is_directory=True)\n",
        "except FileExistsError:\n",
        "  pass\n",
        "\n",
        "for data_source_mapping in DATA_SOURCE_MAPPING.split(','):\n",
        "    directory, download_url_encoded = data_source_mapping.split(':')\n",
        "    download_url = unquote(download_url_encoded)\n",
        "    filename = urlparse(download_url).path\n",
        "    destination_path = os.path.join(KAGGLE_INPUT_PATH, directory)\n",
        "    try:\n",
        "        with urlopen(download_url) as fileres, NamedTemporaryFile() as tfile:\n",
        "            total_length = fileres.headers['content-length']\n",
        "            print(f'Downloading {directory}, {total_length} bytes compressed')\n",
        "            dl = 0\n",
        "            data = fileres.read(CHUNK_SIZE)\n",
        "            while len(data) > 0:\n",
        "                dl += len(data)\n",
        "                tfile.write(data)\n",
        "                done = int(50 * dl / int(total_length))\n",
        "                sys.stdout.write(f\"\\r[{'=' * done}{' ' * (50-done)}] {dl} bytes downloaded\")\n",
        "                sys.stdout.flush()\n",
        "                data = fileres.read(CHUNK_SIZE)\n",
        "            if filename.endswith('.zip'):\n",
        "              with ZipFile(tfile) as zfile:\n",
        "                zfile.extractall(destination_path)\n",
        "            else:\n",
        "              with tarfile.open(tfile.name) as tarfile:\n",
        "                tarfile.extractall(destination_path)\n",
        "            print(f'\\nDownloaded and uncompressed: {directory}')\n",
        "    except HTTPError as e:\n",
        "        print(f'Failed to load (likely expired) {download_url} to path {destination_path}')\n",
        "        continue\n",
        "    except OSError as e:\n",
        "        print(f'Failed to load {download_url} to path {destination_path}')\n",
        "        continue\n",
        "\n",
        "print('Data source import complete.')\n"
      ],
      "metadata": {
        "id": "XT7W-q3jeDhx",
        "outputId": "48520d18-10c1-4656-f35c-51c651693494",
        "colab": {
          "base_uri": "https://localhost:8080/"
        }
      },
      "cell_type": "code",
      "outputs": [
        {
          "output_type": "stream",
          "name": "stdout",
          "text": [
            "Downloading phishing-website-dataset, 112393 bytes compressed\n",
            "[==================================================] 112393 bytes downloaded\n",
            "Downloaded and uncompressed: phishing-website-dataset\n",
            "Data source import complete.\n"
          ]
        }
      ],
      "execution_count": 1
    },
    {
      "cell_type": "code",
      "source": [
        "\n",
        "import numpy as np\n",
        "import pandas as pd\n",
        "\n",
        "\n",
        "import os\n",
        "for dirname, _, filenames in os.walk('/kaggle/input'):\n",
        "    for filename in filenames:\n",
        "        print(os.path.join(dirname, filename))\n"
      ],
      "metadata": {
        "_uuid": "8f2839f25d086af736a60e9eeb907d3b93b6e0e5",
        "_cell_guid": "b1076dfc-b9ad-4769-8c92-a6c4dae69d19",
        "execution": {
          "iopub.status.busy": "2023-05-14T09:32:54.952682Z",
          "iopub.execute_input": "2023-05-14T09:32:54.953058Z",
          "iopub.status.idle": "2023-05-14T09:32:54.97524Z",
          "shell.execute_reply.started": "2023-05-14T09:32:54.953028Z",
          "shell.execute_reply": "2023-05-14T09:32:54.974011Z"
        },
        "trusted": true,
        "id": "BSAkClgteDhy",
        "outputId": "f8bd067d-eaa2-4471-907f-25672168dd83",
        "colab": {
          "base_uri": "https://localhost:8080/"
        }
      },
      "execution_count": 2,
      "outputs": [
        {
          "output_type": "stream",
          "name": "stdout",
          "text": [
            "/kaggle/input/phishing-website-dataset/dataset.csv\n"
          ]
        }
      ]
    },
    {
      "cell_type": "markdown",
      "source": [
        "> *flask app with api capability has been made and code can be find in https://github.com/tenzin3/PhishingWebsiteDetection*"
      ],
      "metadata": {
        "id": "-JpK1SyTeDhy"
      }
    },
    {
      "cell_type": "markdown",
      "source": [
        "> *Dataset credit:> https://www.kaggle.com/datasets/akashkr/phishing-website-dataset*"
      ],
      "metadata": {
        "id": "U0yVhTwKeDhz"
      }
    },
    {
      "cell_type": "markdown",
      "source": [
        "> *Description and labeling of data columns credit goes to :> https://www.kaggle.com/code/akashkr/phishing-url-eda-and-modelling.*"
      ],
      "metadata": {
        "id": "NM5GSzqseDhz"
      }
    },
    {
      "cell_type": "code",
      "source": [
        "dataset = pd.read_csv('/kaggle/input/phishing-website-dataset/dataset.csv')\n",
        "dataset.head()"
      ],
      "metadata": {
        "execution": {
          "iopub.status.busy": "2023-05-14T09:32:54.976861Z",
          "iopub.execute_input": "2023-05-14T09:32:54.977854Z",
          "iopub.status.idle": "2023-05-14T09:32:55.030402Z",
          "shell.execute_reply.started": "2023-05-14T09:32:54.977805Z",
          "shell.execute_reply": "2023-05-14T09:32:55.029564Z"
        },
        "trusted": true,
        "id": "cGbD33x2eDhz",
        "outputId": "242afbe1-27a6-4d9a-c4c6-051d473f48f6",
        "colab": {
          "base_uri": "https://localhost:8080/",
          "height": 255
        }
      },
      "execution_count": 3,
      "outputs": [
        {
          "output_type": "execute_result",
          "data": {
            "text/plain": [
              "   index  having_IPhaving_IP_Address  URLURL_Length  Shortining_Service  \\\n",
              "0      1                          -1              1                   1   \n",
              "1      2                           1              1                   1   \n",
              "2      3                           1              0                   1   \n",
              "3      4                           1              0                   1   \n",
              "4      5                           1              0                  -1   \n",
              "\n",
              "   having_At_Symbol  double_slash_redirecting  Prefix_Suffix  \\\n",
              "0                 1                        -1             -1   \n",
              "1                 1                         1             -1   \n",
              "2                 1                         1             -1   \n",
              "3                 1                         1             -1   \n",
              "4                 1                         1             -1   \n",
              "\n",
              "   having_Sub_Domain  SSLfinal_State  Domain_registeration_length  ...  \\\n",
              "0                 -1              -1                           -1  ...   \n",
              "1                  0               1                           -1  ...   \n",
              "2                 -1              -1                           -1  ...   \n",
              "3                 -1              -1                            1  ...   \n",
              "4                  1               1                           -1  ...   \n",
              "\n",
              "   popUpWidnow  Iframe  age_of_domain  DNSRecord  web_traffic  Page_Rank  \\\n",
              "0            1       1             -1         -1           -1         -1   \n",
              "1            1       1             -1         -1            0         -1   \n",
              "2            1       1              1         -1            1         -1   \n",
              "3            1       1             -1         -1            1         -1   \n",
              "4           -1       1             -1         -1            0         -1   \n",
              "\n",
              "   Google_Index  Links_pointing_to_page  Statistical_report  Result  \n",
              "0             1                       1                  -1      -1  \n",
              "1             1                       1                   1      -1  \n",
              "2             1                       0                  -1      -1  \n",
              "3             1                      -1                   1      -1  \n",
              "4             1                       1                   1       1  \n",
              "\n",
              "[5 rows x 32 columns]"
            ],
            "text/html": [
              "\n",
              "  <div id=\"df-769b831e-8d07-4fe7-b083-1d9ab0139b8f\" class=\"colab-df-container\">\n",
              "    <div>\n",
              "<style scoped>\n",
              "    .dataframe tbody tr th:only-of-type {\n",
              "        vertical-align: middle;\n",
              "    }\n",
              "\n",
              "    .dataframe tbody tr th {\n",
              "        vertical-align: top;\n",
              "    }\n",
              "\n",
              "    .dataframe thead th {\n",
              "        text-align: right;\n",
              "    }\n",
              "</style>\n",
              "<table border=\"1\" class=\"dataframe\">\n",
              "  <thead>\n",
              "    <tr style=\"text-align: right;\">\n",
              "      <th></th>\n",
              "      <th>index</th>\n",
              "      <th>having_IPhaving_IP_Address</th>\n",
              "      <th>URLURL_Length</th>\n",
              "      <th>Shortining_Service</th>\n",
              "      <th>having_At_Symbol</th>\n",
              "      <th>double_slash_redirecting</th>\n",
              "      <th>Prefix_Suffix</th>\n",
              "      <th>having_Sub_Domain</th>\n",
              "      <th>SSLfinal_State</th>\n",
              "      <th>Domain_registeration_length</th>\n",
              "      <th>...</th>\n",
              "      <th>popUpWidnow</th>\n",
              "      <th>Iframe</th>\n",
              "      <th>age_of_domain</th>\n",
              "      <th>DNSRecord</th>\n",
              "      <th>web_traffic</th>\n",
              "      <th>Page_Rank</th>\n",
              "      <th>Google_Index</th>\n",
              "      <th>Links_pointing_to_page</th>\n",
              "      <th>Statistical_report</th>\n",
              "      <th>Result</th>\n",
              "    </tr>\n",
              "  </thead>\n",
              "  <tbody>\n",
              "    <tr>\n",
              "      <th>0</th>\n",
              "      <td>1</td>\n",
              "      <td>-1</td>\n",
              "      <td>1</td>\n",
              "      <td>1</td>\n",
              "      <td>1</td>\n",
              "      <td>-1</td>\n",
              "      <td>-1</td>\n",
              "      <td>-1</td>\n",
              "      <td>-1</td>\n",
              "      <td>-1</td>\n",
              "      <td>...</td>\n",
              "      <td>1</td>\n",
              "      <td>1</td>\n",
              "      <td>-1</td>\n",
              "      <td>-1</td>\n",
              "      <td>-1</td>\n",
              "      <td>-1</td>\n",
              "      <td>1</td>\n",
              "      <td>1</td>\n",
              "      <td>-1</td>\n",
              "      <td>-1</td>\n",
              "    </tr>\n",
              "    <tr>\n",
              "      <th>1</th>\n",
              "      <td>2</td>\n",
              "      <td>1</td>\n",
              "      <td>1</td>\n",
              "      <td>1</td>\n",
              "      <td>1</td>\n",
              "      <td>1</td>\n",
              "      <td>-1</td>\n",
              "      <td>0</td>\n",
              "      <td>1</td>\n",
              "      <td>-1</td>\n",
              "      <td>...</td>\n",
              "      <td>1</td>\n",
              "      <td>1</td>\n",
              "      <td>-1</td>\n",
              "      <td>-1</td>\n",
              "      <td>0</td>\n",
              "      <td>-1</td>\n",
              "      <td>1</td>\n",
              "      <td>1</td>\n",
              "      <td>1</td>\n",
              "      <td>-1</td>\n",
              "    </tr>\n",
              "    <tr>\n",
              "      <th>2</th>\n",
              "      <td>3</td>\n",
              "      <td>1</td>\n",
              "      <td>0</td>\n",
              "      <td>1</td>\n",
              "      <td>1</td>\n",
              "      <td>1</td>\n",
              "      <td>-1</td>\n",
              "      <td>-1</td>\n",
              "      <td>-1</td>\n",
              "      <td>-1</td>\n",
              "      <td>...</td>\n",
              "      <td>1</td>\n",
              "      <td>1</td>\n",
              "      <td>1</td>\n",
              "      <td>-1</td>\n",
              "      <td>1</td>\n",
              "      <td>-1</td>\n",
              "      <td>1</td>\n",
              "      <td>0</td>\n",
              "      <td>-1</td>\n",
              "      <td>-1</td>\n",
              "    </tr>\n",
              "    <tr>\n",
              "      <th>3</th>\n",
              "      <td>4</td>\n",
              "      <td>1</td>\n",
              "      <td>0</td>\n",
              "      <td>1</td>\n",
              "      <td>1</td>\n",
              "      <td>1</td>\n",
              "      <td>-1</td>\n",
              "      <td>-1</td>\n",
              "      <td>-1</td>\n",
              "      <td>1</td>\n",
              "      <td>...</td>\n",
              "      <td>1</td>\n",
              "      <td>1</td>\n",
              "      <td>-1</td>\n",
              "      <td>-1</td>\n",
              "      <td>1</td>\n",
              "      <td>-1</td>\n",
              "      <td>1</td>\n",
              "      <td>-1</td>\n",
              "      <td>1</td>\n",
              "      <td>-1</td>\n",
              "    </tr>\n",
              "    <tr>\n",
              "      <th>4</th>\n",
              "      <td>5</td>\n",
              "      <td>1</td>\n",
              "      <td>0</td>\n",
              "      <td>-1</td>\n",
              "      <td>1</td>\n",
              "      <td>1</td>\n",
              "      <td>-1</td>\n",
              "      <td>1</td>\n",
              "      <td>1</td>\n",
              "      <td>-1</td>\n",
              "      <td>...</td>\n",
              "      <td>-1</td>\n",
              "      <td>1</td>\n",
              "      <td>-1</td>\n",
              "      <td>-1</td>\n",
              "      <td>0</td>\n",
              "      <td>-1</td>\n",
              "      <td>1</td>\n",
              "      <td>1</td>\n",
              "      <td>1</td>\n",
              "      <td>1</td>\n",
              "    </tr>\n",
              "  </tbody>\n",
              "</table>\n",
              "<p>5 rows × 32 columns</p>\n",
              "</div>\n",
              "    <div class=\"colab-df-buttons\">\n",
              "\n",
              "  <div class=\"colab-df-container\">\n",
              "    <button class=\"colab-df-convert\" onclick=\"convertToInteractive('df-769b831e-8d07-4fe7-b083-1d9ab0139b8f')\"\n",
              "            title=\"Convert this dataframe to an interactive table.\"\n",
              "            style=\"display:none;\">\n",
              "\n",
              "  <svg xmlns=\"http://www.w3.org/2000/svg\" height=\"24px\" viewBox=\"0 -960 960 960\">\n",
              "    <path d=\"M120-120v-720h720v720H120Zm60-500h600v-160H180v160Zm220 220h160v-160H400v160Zm0 220h160v-160H400v160ZM180-400h160v-160H180v160Zm440 0h160v-160H620v160ZM180-180h160v-160H180v160Zm440 0h160v-160H620v160Z\"/>\n",
              "  </svg>\n",
              "    </button>\n",
              "\n",
              "  <style>\n",
              "    .colab-df-container {\n",
              "      display:flex;\n",
              "      gap: 12px;\n",
              "    }\n",
              "\n",
              "    .colab-df-convert {\n",
              "      background-color: #E8F0FE;\n",
              "      border: none;\n",
              "      border-radius: 50%;\n",
              "      cursor: pointer;\n",
              "      display: none;\n",
              "      fill: #1967D2;\n",
              "      height: 32px;\n",
              "      padding: 0 0 0 0;\n",
              "      width: 32px;\n",
              "    }\n",
              "\n",
              "    .colab-df-convert:hover {\n",
              "      background-color: #E2EBFA;\n",
              "      box-shadow: 0px 1px 2px rgba(60, 64, 67, 0.3), 0px 1px 3px 1px rgba(60, 64, 67, 0.15);\n",
              "      fill: #174EA6;\n",
              "    }\n",
              "\n",
              "    .colab-df-buttons div {\n",
              "      margin-bottom: 4px;\n",
              "    }\n",
              "\n",
              "    [theme=dark] .colab-df-convert {\n",
              "      background-color: #3B4455;\n",
              "      fill: #D2E3FC;\n",
              "    }\n",
              "\n",
              "    [theme=dark] .colab-df-convert:hover {\n",
              "      background-color: #434B5C;\n",
              "      box-shadow: 0px 1px 3px 1px rgba(0, 0, 0, 0.15);\n",
              "      filter: drop-shadow(0px 1px 2px rgba(0, 0, 0, 0.3));\n",
              "      fill: #FFFFFF;\n",
              "    }\n",
              "  </style>\n",
              "\n",
              "    <script>\n",
              "      const buttonEl =\n",
              "        document.querySelector('#df-769b831e-8d07-4fe7-b083-1d9ab0139b8f button.colab-df-convert');\n",
              "      buttonEl.style.display =\n",
              "        google.colab.kernel.accessAllowed ? 'block' : 'none';\n",
              "\n",
              "      async function convertToInteractive(key) {\n",
              "        const element = document.querySelector('#df-769b831e-8d07-4fe7-b083-1d9ab0139b8f');\n",
              "        const dataTable =\n",
              "          await google.colab.kernel.invokeFunction('convertToInteractive',\n",
              "                                                    [key], {});\n",
              "        if (!dataTable) return;\n",
              "\n",
              "        const docLinkHtml = 'Like what you see? Visit the ' +\n",
              "          '<a target=\"_blank\" href=https://colab.research.google.com/notebooks/data_table.ipynb>data table notebook</a>'\n",
              "          + ' to learn more about interactive tables.';\n",
              "        element.innerHTML = '';\n",
              "        dataTable['output_type'] = 'display_data';\n",
              "        await google.colab.output.renderOutput(dataTable, element);\n",
              "        const docLink = document.createElement('div');\n",
              "        docLink.innerHTML = docLinkHtml;\n",
              "        element.appendChild(docLink);\n",
              "      }\n",
              "    </script>\n",
              "  </div>\n",
              "\n",
              "\n",
              "<div id=\"df-0b2c6312-c08d-4761-888a-a195422b2fab\">\n",
              "  <button class=\"colab-df-quickchart\" onclick=\"quickchart('df-0b2c6312-c08d-4761-888a-a195422b2fab')\"\n",
              "            title=\"Suggest charts\"\n",
              "            style=\"display:none;\">\n",
              "\n",
              "<svg xmlns=\"http://www.w3.org/2000/svg\" height=\"24px\"viewBox=\"0 0 24 24\"\n",
              "     width=\"24px\">\n",
              "    <g>\n",
              "        <path d=\"M19 3H5c-1.1 0-2 .9-2 2v14c0 1.1.9 2 2 2h14c1.1 0 2-.9 2-2V5c0-1.1-.9-2-2-2zM9 17H7v-7h2v7zm4 0h-2V7h2v10zm4 0h-2v-4h2v4z\"/>\n",
              "    </g>\n",
              "</svg>\n",
              "  </button>\n",
              "\n",
              "<style>\n",
              "  .colab-df-quickchart {\n",
              "      --bg-color: #E8F0FE;\n",
              "      --fill-color: #1967D2;\n",
              "      --hover-bg-color: #E2EBFA;\n",
              "      --hover-fill-color: #174EA6;\n",
              "      --disabled-fill-color: #AAA;\n",
              "      --disabled-bg-color: #DDD;\n",
              "  }\n",
              "\n",
              "  [theme=dark] .colab-df-quickchart {\n",
              "      --bg-color: #3B4455;\n",
              "      --fill-color: #D2E3FC;\n",
              "      --hover-bg-color: #434B5C;\n",
              "      --hover-fill-color: #FFFFFF;\n",
              "      --disabled-bg-color: #3B4455;\n",
              "      --disabled-fill-color: #666;\n",
              "  }\n",
              "\n",
              "  .colab-df-quickchart {\n",
              "    background-color: var(--bg-color);\n",
              "    border: none;\n",
              "    border-radius: 50%;\n",
              "    cursor: pointer;\n",
              "    display: none;\n",
              "    fill: var(--fill-color);\n",
              "    height: 32px;\n",
              "    padding: 0;\n",
              "    width: 32px;\n",
              "  }\n",
              "\n",
              "  .colab-df-quickchart:hover {\n",
              "    background-color: var(--hover-bg-color);\n",
              "    box-shadow: 0 1px 2px rgba(60, 64, 67, 0.3), 0 1px 3px 1px rgba(60, 64, 67, 0.15);\n",
              "    fill: var(--button-hover-fill-color);\n",
              "  }\n",
              "\n",
              "  .colab-df-quickchart-complete:disabled,\n",
              "  .colab-df-quickchart-complete:disabled:hover {\n",
              "    background-color: var(--disabled-bg-color);\n",
              "    fill: var(--disabled-fill-color);\n",
              "    box-shadow: none;\n",
              "  }\n",
              "\n",
              "  .colab-df-spinner {\n",
              "    border: 2px solid var(--fill-color);\n",
              "    border-color: transparent;\n",
              "    border-bottom-color: var(--fill-color);\n",
              "    animation:\n",
              "      spin 1s steps(1) infinite;\n",
              "  }\n",
              "\n",
              "  @keyframes spin {\n",
              "    0% {\n",
              "      border-color: transparent;\n",
              "      border-bottom-color: var(--fill-color);\n",
              "      border-left-color: var(--fill-color);\n",
              "    }\n",
              "    20% {\n",
              "      border-color: transparent;\n",
              "      border-left-color: var(--fill-color);\n",
              "      border-top-color: var(--fill-color);\n",
              "    }\n",
              "    30% {\n",
              "      border-color: transparent;\n",
              "      border-left-color: var(--fill-color);\n",
              "      border-top-color: var(--fill-color);\n",
              "      border-right-color: var(--fill-color);\n",
              "    }\n",
              "    40% {\n",
              "      border-color: transparent;\n",
              "      border-right-color: var(--fill-color);\n",
              "      border-top-color: var(--fill-color);\n",
              "    }\n",
              "    60% {\n",
              "      border-color: transparent;\n",
              "      border-right-color: var(--fill-color);\n",
              "    }\n",
              "    80% {\n",
              "      border-color: transparent;\n",
              "      border-right-color: var(--fill-color);\n",
              "      border-bottom-color: var(--fill-color);\n",
              "    }\n",
              "    90% {\n",
              "      border-color: transparent;\n",
              "      border-bottom-color: var(--fill-color);\n",
              "    }\n",
              "  }\n",
              "</style>\n",
              "\n",
              "  <script>\n",
              "    async function quickchart(key) {\n",
              "      const quickchartButtonEl =\n",
              "        document.querySelector('#' + key + ' button');\n",
              "      quickchartButtonEl.disabled = true;  // To prevent multiple clicks.\n",
              "      quickchartButtonEl.classList.add('colab-df-spinner');\n",
              "      try {\n",
              "        const charts = await google.colab.kernel.invokeFunction(\n",
              "            'suggestCharts', [key], {});\n",
              "      } catch (error) {\n",
              "        console.error('Error during call to suggestCharts:', error);\n",
              "      }\n",
              "      quickchartButtonEl.classList.remove('colab-df-spinner');\n",
              "      quickchartButtonEl.classList.add('colab-df-quickchart-complete');\n",
              "    }\n",
              "    (() => {\n",
              "      let quickchartButtonEl =\n",
              "        document.querySelector('#df-0b2c6312-c08d-4761-888a-a195422b2fab button');\n",
              "      quickchartButtonEl.style.display =\n",
              "        google.colab.kernel.accessAllowed ? 'block' : 'none';\n",
              "    })();\n",
              "  </script>\n",
              "</div>\n",
              "\n",
              "    </div>\n",
              "  </div>\n"
            ],
            "application/vnd.google.colaboratory.intrinsic+json": {
              "type": "dataframe",
              "variable_name": "dataset"
            }
          },
          "metadata": {},
          "execution_count": 3
        }
      ]
    },
    {
      "cell_type": "markdown",
      "source": [
        "> *1 means legitimate, 0 is suspicious and -1 is phishing.*"
      ],
      "metadata": {
        "id": "QjqESgugeDhz"
      }
    },
    {
      "cell_type": "code",
      "source": [
        "dataset['Result'].value_counts()"
      ],
      "metadata": {
        "execution": {
          "iopub.status.busy": "2023-05-14T09:32:55.031561Z",
          "iopub.execute_input": "2023-05-14T09:32:55.031874Z",
          "iopub.status.idle": "2023-05-14T09:32:55.039638Z",
          "shell.execute_reply.started": "2023-05-14T09:32:55.031842Z",
          "shell.execute_reply": "2023-05-14T09:32:55.038797Z"
        },
        "trusted": true,
        "id": "6Ck5kX43eDh0",
        "outputId": "48cc7037-38d5-4719-a718-b3e90d3fe302",
        "colab": {
          "base_uri": "https://localhost:8080/"
        }
      },
      "execution_count": 4,
      "outputs": [
        {
          "output_type": "execute_result",
          "data": {
            "text/plain": [
              " 1    6157\n",
              "-1    4898\n",
              "Name: Result, dtype: int64"
            ]
          },
          "metadata": {},
          "execution_count": 4
        }
      ]
    },
    {
      "cell_type": "code",
      "source": [
        "dataset['Page_Rank'].value_counts()"
      ],
      "metadata": {
        "execution": {
          "iopub.status.busy": "2023-05-14T09:32:55.041306Z",
          "iopub.execute_input": "2023-05-14T09:32:55.041637Z",
          "iopub.status.idle": "2023-05-14T09:32:55.054666Z",
          "shell.execute_reply.started": "2023-05-14T09:32:55.041609Z",
          "shell.execute_reply": "2023-05-14T09:32:55.053674Z"
        },
        "trusted": true,
        "id": "Q0TgcnOteDh0",
        "outputId": "c3030a36-94c6-4f76-d2c2-ba68b47ac2ac",
        "colab": {
          "base_uri": "https://localhost:8080/"
        }
      },
      "execution_count": 5,
      "outputs": [
        {
          "output_type": "execute_result",
          "data": {
            "text/plain": [
              "-1    8201\n",
              " 1    2854\n",
              "Name: Page_Rank, dtype: int64"
            ]
          },
          "metadata": {},
          "execution_count": 5
        }
      ]
    },
    {
      "cell_type": "markdown",
      "source": [
        "> *PageRank\n",
        "PageRank is a value ranging from “0” to “1”. PageRank aims to measure how important a webpage is on the Internet. The greater the PageRank value the more important the webpage. In our datasets, we find that about 95% of phishing webpages have no PageRank. Moreover, we find that the remaining 5% of phishing webpages may reach a PageRank value up to “0.2”.\n",
        "Rule: IF\n",
        "{PageRank<0.2 → Phishing\n",
        "{Otherwise → Legitimate*"
      ],
      "metadata": {
        "id": "PKreuWrheDh0"
      }
    },
    {
      "cell_type": "code",
      "source": [
        "dataset['Google_Index'].value_counts()"
      ],
      "metadata": {
        "execution": {
          "iopub.status.busy": "2023-05-14T09:32:55.056935Z",
          "iopub.execute_input": "2023-05-14T09:32:55.057177Z",
          "iopub.status.idle": "2023-05-14T09:32:55.066022Z",
          "shell.execute_reply.started": "2023-05-14T09:32:55.057157Z",
          "shell.execute_reply": "2023-05-14T09:32:55.064961Z"
        },
        "trusted": true,
        "id": "Vu4vjvvxeDh0",
        "outputId": "58eade38-4f7c-4d1d-a494-de2ffa6051c9",
        "colab": {
          "base_uri": "https://localhost:8080/"
        }
      },
      "execution_count": 6,
      "outputs": [
        {
          "output_type": "execute_result",
          "data": {
            "text/plain": [
              " 1    9516\n",
              "-1    1539\n",
              "Name: Google_Index, dtype: int64"
            ]
          },
          "metadata": {},
          "execution_count": 6
        }
      ]
    },
    {
      "cell_type": "markdown",
      "source": [
        "> *Google Index\n",
        "This feature examines whether a website is in Google’s index or not. When a site is indexed by Google, it is displayed on search results (Webmaster resources, 2014). Usually, phishing webpages are merely accessible for a short period and as a result, many phishing webpages may not be found on the Google index.\n",
        "Rule: IF\n",
        "{Webpage Indexed by Google → Legitimate\n",
        "{Otherwise → Phishing*"
      ],
      "metadata": {
        "id": "-naHppkCeDh0"
      }
    },
    {
      "cell_type": "code",
      "source": [
        "dataset['URLURL_Length'].value_counts()"
      ],
      "metadata": {
        "execution": {
          "iopub.status.busy": "2023-05-14T09:32:55.068099Z",
          "iopub.execute_input": "2023-05-14T09:32:55.068861Z",
          "iopub.status.idle": "2023-05-14T09:32:55.080058Z",
          "shell.execute_reply.started": "2023-05-14T09:32:55.068822Z",
          "shell.execute_reply": "2023-05-14T09:32:55.07905Z"
        },
        "trusted": true,
        "id": "vVb42tB0eDh1",
        "outputId": "118cdc61-df54-454d-cd1b-0acf57d98ab7",
        "colab": {
          "base_uri": "https://localhost:8080/"
        }
      },
      "execution_count": 7,
      "outputs": [
        {
          "output_type": "execute_result",
          "data": {
            "text/plain": [
              "-1    8960\n",
              " 1    1960\n",
              " 0     135\n",
              "Name: URLURL_Length, dtype: int64"
            ]
          },
          "metadata": {},
          "execution_count": 7
        }
      ]
    },
    {
      "cell_type": "markdown",
      "source": [
        "> *Long URL to Hide the Suspicious Part\n",
        "Phishers can use long URL to hide the doubtful part in the address bar. For example: http://federmacedoadv.com.br/3f/aze/ab51e2e319e51502f416dbe46b773a5e/?cmd=_home&amp;dispatch=11004d58f5b74f8dc1e7c2e8dd4105e811004d58f5b74f8dc1e7c2e8dd4105e8@phishing.website.html To ensure accuracy of our study, we calculated the length of URLs in the dataset and produced an average URL length. The results showed that if the length of the URL is greater than or equal 54 characters then the URL classified as phishing. By reviewing our dataset we were able to find 1220 URLs lengths equals to 54 or more which constitute 48.8% of the total dataset size. We have been able to update this feature rule by using a method based on frequency and thus improving upon its accuracy.\n",
        "RULE: IF\n",
        "{URL length<54 → feature = Legitimate\n",
        "{else if URL length≥54 and ≤75 → feature = Suspicious\n",
        "{otherwise→ feature = Phishing*"
      ],
      "metadata": {
        "id": "G_QSNQhWeDh1"
      }
    },
    {
      "cell_type": "code",
      "source": [
        "dataset['having_At_Symbol'].value_counts()"
      ],
      "metadata": {
        "execution": {
          "iopub.status.busy": "2023-05-14T09:32:55.081287Z",
          "iopub.execute_input": "2023-05-14T09:32:55.081752Z",
          "iopub.status.idle": "2023-05-14T09:32:55.092519Z",
          "shell.execute_reply.started": "2023-05-14T09:32:55.081726Z",
          "shell.execute_reply": "2023-05-14T09:32:55.091788Z"
        },
        "trusted": true,
        "id": "MvWB6s_2eDh1",
        "outputId": "89174dc7-864a-40c2-e674-00a4c6d5868e",
        "colab": {
          "base_uri": "https://localhost:8080/"
        }
      },
      "execution_count": 8,
      "outputs": [
        {
          "output_type": "execute_result",
          "data": {
            "text/plain": [
              " 1    9400\n",
              "-1    1655\n",
              "Name: having_At_Symbol, dtype: int64"
            ]
          },
          "metadata": {},
          "execution_count": 8
        }
      ]
    },
    {
      "cell_type": "markdown",
      "source": [
        "> *URL’s having “@” Symbol\n",
        "Using “@” symbol in the URL leads the browser to ignore everything preceding the “@” symbol and the real address often follows the “@” symbol.\n",
        "RULE: IF\n",
        "{Url Having @ Symbol→ Phishing\n",
        "{Otherwise→ Legitimate*"
      ],
      "metadata": {
        "id": "LtqeRJKaeDh1"
      }
    },
    {
      "cell_type": "code",
      "source": [
        "dataset['double_slash_redirecting'].value_counts()"
      ],
      "metadata": {
        "execution": {
          "iopub.status.busy": "2023-05-14T09:32:55.093501Z",
          "iopub.execute_input": "2023-05-14T09:32:55.097278Z",
          "iopub.status.idle": "2023-05-14T09:32:55.107281Z",
          "shell.execute_reply.started": "2023-05-14T09:32:55.097232Z",
          "shell.execute_reply": "2023-05-14T09:32:55.106507Z"
        },
        "trusted": true,
        "id": "YeWcQ34eeDh1",
        "outputId": "793725df-44fc-4530-db45-3a3dd354432d",
        "colab": {
          "base_uri": "https://localhost:8080/"
        }
      },
      "execution_count": 9,
      "outputs": [
        {
          "output_type": "execute_result",
          "data": {
            "text/plain": [
              " 1    9626\n",
              "-1    1429\n",
              "Name: double_slash_redirecting, dtype: int64"
            ]
          },
          "metadata": {},
          "execution_count": 9
        }
      ]
    },
    {
      "cell_type": "markdown",
      "source": [
        "> *Redirecting using “//”\n",
        "The existence of “//” within the URL path means that the user will be redirected to another website. An example of such URL’s is: “http://www.legitimate.com//http://www.phishing.com”. We examin the location where the “//” appears. We find that if the URL starts with “HTTP”, that means the “//” should appear in the sixth position. However, if the URL employs “HTTPS” then the “//” should appear in seventh position.\n",
        "RULE: IF\n",
        "{The Position of the Last Occurrence of \"//\\\" \" in the URL > 7→ Phishing\n",
        "{Otherwise→ Legitimate*"
      ],
      "metadata": {
        "id": "C1pLpl9aeDh2"
      }
    },
    {
      "cell_type": "code",
      "source": [
        "dataset['Prefix_Suffix'].value_counts()"
      ],
      "metadata": {
        "execution": {
          "iopub.status.busy": "2023-05-14T09:32:55.108351Z",
          "iopub.execute_input": "2023-05-14T09:32:55.10937Z",
          "iopub.status.idle": "2023-05-14T09:32:55.120659Z",
          "shell.execute_reply.started": "2023-05-14T09:32:55.109324Z",
          "shell.execute_reply": "2023-05-14T09:32:55.119555Z"
        },
        "trusted": true,
        "id": "TK9vZ_cxeDh2",
        "outputId": "b8e162d3-5f40-49db-972b-565d6a9fde82",
        "colab": {
          "base_uri": "https://localhost:8080/"
        }
      },
      "execution_count": 10,
      "outputs": [
        {
          "output_type": "execute_result",
          "data": {
            "text/plain": [
              "-1    9590\n",
              " 1    1465\n",
              "Name: Prefix_Suffix, dtype: int64"
            ]
          },
          "metadata": {},
          "execution_count": 10
        }
      ]
    },
    {
      "cell_type": "markdown",
      "source": [
        "> *Adding Prefix or Suffix Separated by (-) to the Domain\n",
        "The dash symbol is rarely used in legitimate URLs. Phishers tend to add prefixes or suffixes separated by (-) to the domain name so that users feel that they are dealing with a legitimate webpage. For example http://www.Confirme-paypal.com/.\n",
        "RULE: IF\n",
        "{Domain Name Part Includes (-) Symbol → Phishing\n",
        "{Otherwise → Legitimate*"
      ],
      "metadata": {
        "id": "hrYPkxUHeDh2"
      }
    },
    {
      "cell_type": "code",
      "source": [
        "selected_features=['URLURL_Length', 'having_At_Symbol','double_slash_redirecting', 'Prefix_Suffix', 'Page_Rank', 'Google_Index','Result']\n",
        "df = dataset[selected_features]\n",
        "df.head()"
      ],
      "metadata": {
        "execution": {
          "iopub.status.busy": "2023-05-14T09:32:55.122702Z",
          "iopub.execute_input": "2023-05-14T09:32:55.123152Z",
          "iopub.status.idle": "2023-05-14T09:32:55.13916Z",
          "shell.execute_reply.started": "2023-05-14T09:32:55.12312Z",
          "shell.execute_reply": "2023-05-14T09:32:55.13824Z"
        },
        "trusted": true,
        "id": "7PybseVpeDh2",
        "outputId": "2e4d54ee-85b6-4b0b-edcd-7e175f3f7829",
        "colab": {
          "base_uri": "https://localhost:8080/",
          "height": 206
        }
      },
      "execution_count": 11,
      "outputs": [
        {
          "output_type": "execute_result",
          "data": {
            "text/plain": [
              "   URLURL_Length  having_At_Symbol  double_slash_redirecting  Prefix_Suffix  \\\n",
              "0              1                 1                        -1             -1   \n",
              "1              1                 1                         1             -1   \n",
              "2              0                 1                         1             -1   \n",
              "3              0                 1                         1             -1   \n",
              "4              0                 1                         1             -1   \n",
              "\n",
              "   Page_Rank  Google_Index  Result  \n",
              "0         -1             1      -1  \n",
              "1         -1             1      -1  \n",
              "2         -1             1      -1  \n",
              "3         -1             1      -1  \n",
              "4         -1             1       1  "
            ],
            "text/html": [
              "\n",
              "  <div id=\"df-06c8b75b-40f0-44bb-88be-e0d348f0fe10\" class=\"colab-df-container\">\n",
              "    <div>\n",
              "<style scoped>\n",
              "    .dataframe tbody tr th:only-of-type {\n",
              "        vertical-align: middle;\n",
              "    }\n",
              "\n",
              "    .dataframe tbody tr th {\n",
              "        vertical-align: top;\n",
              "    }\n",
              "\n",
              "    .dataframe thead th {\n",
              "        text-align: right;\n",
              "    }\n",
              "</style>\n",
              "<table border=\"1\" class=\"dataframe\">\n",
              "  <thead>\n",
              "    <tr style=\"text-align: right;\">\n",
              "      <th></th>\n",
              "      <th>URLURL_Length</th>\n",
              "      <th>having_At_Symbol</th>\n",
              "      <th>double_slash_redirecting</th>\n",
              "      <th>Prefix_Suffix</th>\n",
              "      <th>Page_Rank</th>\n",
              "      <th>Google_Index</th>\n",
              "      <th>Result</th>\n",
              "    </tr>\n",
              "  </thead>\n",
              "  <tbody>\n",
              "    <tr>\n",
              "      <th>0</th>\n",
              "      <td>1</td>\n",
              "      <td>1</td>\n",
              "      <td>-1</td>\n",
              "      <td>-1</td>\n",
              "      <td>-1</td>\n",
              "      <td>1</td>\n",
              "      <td>-1</td>\n",
              "    </tr>\n",
              "    <tr>\n",
              "      <th>1</th>\n",
              "      <td>1</td>\n",
              "      <td>1</td>\n",
              "      <td>1</td>\n",
              "      <td>-1</td>\n",
              "      <td>-1</td>\n",
              "      <td>1</td>\n",
              "      <td>-1</td>\n",
              "    </tr>\n",
              "    <tr>\n",
              "      <th>2</th>\n",
              "      <td>0</td>\n",
              "      <td>1</td>\n",
              "      <td>1</td>\n",
              "      <td>-1</td>\n",
              "      <td>-1</td>\n",
              "      <td>1</td>\n",
              "      <td>-1</td>\n",
              "    </tr>\n",
              "    <tr>\n",
              "      <th>3</th>\n",
              "      <td>0</td>\n",
              "      <td>1</td>\n",
              "      <td>1</td>\n",
              "      <td>-1</td>\n",
              "      <td>-1</td>\n",
              "      <td>1</td>\n",
              "      <td>-1</td>\n",
              "    </tr>\n",
              "    <tr>\n",
              "      <th>4</th>\n",
              "      <td>0</td>\n",
              "      <td>1</td>\n",
              "      <td>1</td>\n",
              "      <td>-1</td>\n",
              "      <td>-1</td>\n",
              "      <td>1</td>\n",
              "      <td>1</td>\n",
              "    </tr>\n",
              "  </tbody>\n",
              "</table>\n",
              "</div>\n",
              "    <div class=\"colab-df-buttons\">\n",
              "\n",
              "  <div class=\"colab-df-container\">\n",
              "    <button class=\"colab-df-convert\" onclick=\"convertToInteractive('df-06c8b75b-40f0-44bb-88be-e0d348f0fe10')\"\n",
              "            title=\"Convert this dataframe to an interactive table.\"\n",
              "            style=\"display:none;\">\n",
              "\n",
              "  <svg xmlns=\"http://www.w3.org/2000/svg\" height=\"24px\" viewBox=\"0 -960 960 960\">\n",
              "    <path d=\"M120-120v-720h720v720H120Zm60-500h600v-160H180v160Zm220 220h160v-160H400v160Zm0 220h160v-160H400v160ZM180-400h160v-160H180v160Zm440 0h160v-160H620v160ZM180-180h160v-160H180v160Zm440 0h160v-160H620v160Z\"/>\n",
              "  </svg>\n",
              "    </button>\n",
              "\n",
              "  <style>\n",
              "    .colab-df-container {\n",
              "      display:flex;\n",
              "      gap: 12px;\n",
              "    }\n",
              "\n",
              "    .colab-df-convert {\n",
              "      background-color: #E8F0FE;\n",
              "      border: none;\n",
              "      border-radius: 50%;\n",
              "      cursor: pointer;\n",
              "      display: none;\n",
              "      fill: #1967D2;\n",
              "      height: 32px;\n",
              "      padding: 0 0 0 0;\n",
              "      width: 32px;\n",
              "    }\n",
              "\n",
              "    .colab-df-convert:hover {\n",
              "      background-color: #E2EBFA;\n",
              "      box-shadow: 0px 1px 2px rgba(60, 64, 67, 0.3), 0px 1px 3px 1px rgba(60, 64, 67, 0.15);\n",
              "      fill: #174EA6;\n",
              "    }\n",
              "\n",
              "    .colab-df-buttons div {\n",
              "      margin-bottom: 4px;\n",
              "    }\n",
              "\n",
              "    [theme=dark] .colab-df-convert {\n",
              "      background-color: #3B4455;\n",
              "      fill: #D2E3FC;\n",
              "    }\n",
              "\n",
              "    [theme=dark] .colab-df-convert:hover {\n",
              "      background-color: #434B5C;\n",
              "      box-shadow: 0px 1px 3px 1px rgba(0, 0, 0, 0.15);\n",
              "      filter: drop-shadow(0px 1px 2px rgba(0, 0, 0, 0.3));\n",
              "      fill: #FFFFFF;\n",
              "    }\n",
              "  </style>\n",
              "\n",
              "    <script>\n",
              "      const buttonEl =\n",
              "        document.querySelector('#df-06c8b75b-40f0-44bb-88be-e0d348f0fe10 button.colab-df-convert');\n",
              "      buttonEl.style.display =\n",
              "        google.colab.kernel.accessAllowed ? 'block' : 'none';\n",
              "\n",
              "      async function convertToInteractive(key) {\n",
              "        const element = document.querySelector('#df-06c8b75b-40f0-44bb-88be-e0d348f0fe10');\n",
              "        const dataTable =\n",
              "          await google.colab.kernel.invokeFunction('convertToInteractive',\n",
              "                                                    [key], {});\n",
              "        if (!dataTable) return;\n",
              "\n",
              "        const docLinkHtml = 'Like what you see? Visit the ' +\n",
              "          '<a target=\"_blank\" href=https://colab.research.google.com/notebooks/data_table.ipynb>data table notebook</a>'\n",
              "          + ' to learn more about interactive tables.';\n",
              "        element.innerHTML = '';\n",
              "        dataTable['output_type'] = 'display_data';\n",
              "        await google.colab.output.renderOutput(dataTable, element);\n",
              "        const docLink = document.createElement('div');\n",
              "        docLink.innerHTML = docLinkHtml;\n",
              "        element.appendChild(docLink);\n",
              "      }\n",
              "    </script>\n",
              "  </div>\n",
              "\n",
              "\n",
              "<div id=\"df-f1329dd3-6154-4d76-9623-800dfd05ad8e\">\n",
              "  <button class=\"colab-df-quickchart\" onclick=\"quickchart('df-f1329dd3-6154-4d76-9623-800dfd05ad8e')\"\n",
              "            title=\"Suggest charts\"\n",
              "            style=\"display:none;\">\n",
              "\n",
              "<svg xmlns=\"http://www.w3.org/2000/svg\" height=\"24px\"viewBox=\"0 0 24 24\"\n",
              "     width=\"24px\">\n",
              "    <g>\n",
              "        <path d=\"M19 3H5c-1.1 0-2 .9-2 2v14c0 1.1.9 2 2 2h14c1.1 0 2-.9 2-2V5c0-1.1-.9-2-2-2zM9 17H7v-7h2v7zm4 0h-2V7h2v10zm4 0h-2v-4h2v4z\"/>\n",
              "    </g>\n",
              "</svg>\n",
              "  </button>\n",
              "\n",
              "<style>\n",
              "  .colab-df-quickchart {\n",
              "      --bg-color: #E8F0FE;\n",
              "      --fill-color: #1967D2;\n",
              "      --hover-bg-color: #E2EBFA;\n",
              "      --hover-fill-color: #174EA6;\n",
              "      --disabled-fill-color: #AAA;\n",
              "      --disabled-bg-color: #DDD;\n",
              "  }\n",
              "\n",
              "  [theme=dark] .colab-df-quickchart {\n",
              "      --bg-color: #3B4455;\n",
              "      --fill-color: #D2E3FC;\n",
              "      --hover-bg-color: #434B5C;\n",
              "      --hover-fill-color: #FFFFFF;\n",
              "      --disabled-bg-color: #3B4455;\n",
              "      --disabled-fill-color: #666;\n",
              "  }\n",
              "\n",
              "  .colab-df-quickchart {\n",
              "    background-color: var(--bg-color);\n",
              "    border: none;\n",
              "    border-radius: 50%;\n",
              "    cursor: pointer;\n",
              "    display: none;\n",
              "    fill: var(--fill-color);\n",
              "    height: 32px;\n",
              "    padding: 0;\n",
              "    width: 32px;\n",
              "  }\n",
              "\n",
              "  .colab-df-quickchart:hover {\n",
              "    background-color: var(--hover-bg-color);\n",
              "    box-shadow: 0 1px 2px rgba(60, 64, 67, 0.3), 0 1px 3px 1px rgba(60, 64, 67, 0.15);\n",
              "    fill: var(--button-hover-fill-color);\n",
              "  }\n",
              "\n",
              "  .colab-df-quickchart-complete:disabled,\n",
              "  .colab-df-quickchart-complete:disabled:hover {\n",
              "    background-color: var(--disabled-bg-color);\n",
              "    fill: var(--disabled-fill-color);\n",
              "    box-shadow: none;\n",
              "  }\n",
              "\n",
              "  .colab-df-spinner {\n",
              "    border: 2px solid var(--fill-color);\n",
              "    border-color: transparent;\n",
              "    border-bottom-color: var(--fill-color);\n",
              "    animation:\n",
              "      spin 1s steps(1) infinite;\n",
              "  }\n",
              "\n",
              "  @keyframes spin {\n",
              "    0% {\n",
              "      border-color: transparent;\n",
              "      border-bottom-color: var(--fill-color);\n",
              "      border-left-color: var(--fill-color);\n",
              "    }\n",
              "    20% {\n",
              "      border-color: transparent;\n",
              "      border-left-color: var(--fill-color);\n",
              "      border-top-color: var(--fill-color);\n",
              "    }\n",
              "    30% {\n",
              "      border-color: transparent;\n",
              "      border-left-color: var(--fill-color);\n",
              "      border-top-color: var(--fill-color);\n",
              "      border-right-color: var(--fill-color);\n",
              "    }\n",
              "    40% {\n",
              "      border-color: transparent;\n",
              "      border-right-color: var(--fill-color);\n",
              "      border-top-color: var(--fill-color);\n",
              "    }\n",
              "    60% {\n",
              "      border-color: transparent;\n",
              "      border-right-color: var(--fill-color);\n",
              "    }\n",
              "    80% {\n",
              "      border-color: transparent;\n",
              "      border-right-color: var(--fill-color);\n",
              "      border-bottom-color: var(--fill-color);\n",
              "    }\n",
              "    90% {\n",
              "      border-color: transparent;\n",
              "      border-bottom-color: var(--fill-color);\n",
              "    }\n",
              "  }\n",
              "</style>\n",
              "\n",
              "  <script>\n",
              "    async function quickchart(key) {\n",
              "      const quickchartButtonEl =\n",
              "        document.querySelector('#' + key + ' button');\n",
              "      quickchartButtonEl.disabled = true;  // To prevent multiple clicks.\n",
              "      quickchartButtonEl.classList.add('colab-df-spinner');\n",
              "      try {\n",
              "        const charts = await google.colab.kernel.invokeFunction(\n",
              "            'suggestCharts', [key], {});\n",
              "      } catch (error) {\n",
              "        console.error('Error during call to suggestCharts:', error);\n",
              "      }\n",
              "      quickchartButtonEl.classList.remove('colab-df-spinner');\n",
              "      quickchartButtonEl.classList.add('colab-df-quickchart-complete');\n",
              "    }\n",
              "    (() => {\n",
              "      let quickchartButtonEl =\n",
              "        document.querySelector('#df-f1329dd3-6154-4d76-9623-800dfd05ad8e button');\n",
              "      quickchartButtonEl.style.display =\n",
              "        google.colab.kernel.accessAllowed ? 'block' : 'none';\n",
              "    })();\n",
              "  </script>\n",
              "</div>\n",
              "\n",
              "    </div>\n",
              "  </div>\n"
            ],
            "application/vnd.google.colaboratory.intrinsic+json": {
              "type": "dataframe",
              "variable_name": "df",
              "summary": "{\n  \"name\": \"df\",\n  \"rows\": 11055,\n  \"fields\": [\n    {\n      \"column\": \"URLURL_Length\",\n      \"properties\": {\n        \"dtype\": \"number\",\n        \"std\": 0,\n        \"min\": -1,\n        \"max\": 1,\n        \"num_unique_values\": 3,\n        \"samples\": [\n          1,\n          0,\n          -1\n        ],\n        \"semantic_type\": \"\",\n        \"description\": \"\"\n      }\n    },\n    {\n      \"column\": \"having_At_Symbol\",\n      \"properties\": {\n        \"dtype\": \"number\",\n        \"std\": 0,\n        \"min\": -1,\n        \"max\": 1,\n        \"num_unique_values\": 2,\n        \"samples\": [\n          -1,\n          1\n        ],\n        \"semantic_type\": \"\",\n        \"description\": \"\"\n      }\n    },\n    {\n      \"column\": \"double_slash_redirecting\",\n      \"properties\": {\n        \"dtype\": \"number\",\n        \"std\": 0,\n        \"min\": -1,\n        \"max\": 1,\n        \"num_unique_values\": 2,\n        \"samples\": [\n          1,\n          -1\n        ],\n        \"semantic_type\": \"\",\n        \"description\": \"\"\n      }\n    },\n    {\n      \"column\": \"Prefix_Suffix\",\n      \"properties\": {\n        \"dtype\": \"number\",\n        \"std\": 0,\n        \"min\": -1,\n        \"max\": 1,\n        \"num_unique_values\": 2,\n        \"samples\": [\n          1,\n          -1\n        ],\n        \"semantic_type\": \"\",\n        \"description\": \"\"\n      }\n    },\n    {\n      \"column\": \"Page_Rank\",\n      \"properties\": {\n        \"dtype\": \"number\",\n        \"std\": 0,\n        \"min\": -1,\n        \"max\": 1,\n        \"num_unique_values\": 2,\n        \"samples\": [\n          1,\n          -1\n        ],\n        \"semantic_type\": \"\",\n        \"description\": \"\"\n      }\n    },\n    {\n      \"column\": \"Google_Index\",\n      \"properties\": {\n        \"dtype\": \"number\",\n        \"std\": 0,\n        \"min\": -1,\n        \"max\": 1,\n        \"num_unique_values\": 2,\n        \"samples\": [\n          -1,\n          1\n        ],\n        \"semantic_type\": \"\",\n        \"description\": \"\"\n      }\n    },\n    {\n      \"column\": \"Result\",\n      \"properties\": {\n        \"dtype\": \"number\",\n        \"std\": 0,\n        \"min\": -1,\n        \"max\": 1,\n        \"num_unique_values\": 2,\n        \"samples\": [\n          1,\n          -1\n        ],\n        \"semantic_type\": \"\",\n        \"description\": \"\"\n      }\n    }\n  ]\n}"
            }
          },
          "metadata": {},
          "execution_count": 11
        }
      ]
    },
    {
      "cell_type": "code",
      "source": [
        "new_columns = {'URLURL_Length': 'URL_Length', 'Prefix_Suffix':'HavingHyphen'}\n",
        "df = df.rename(columns=new_columns)\n"
      ],
      "metadata": {
        "execution": {
          "iopub.status.busy": "2023-05-14T09:32:55.140564Z",
          "iopub.execute_input": "2023-05-14T09:32:55.141375Z",
          "iopub.status.idle": "2023-05-14T09:32:55.147611Z",
          "shell.execute_reply.started": "2023-05-14T09:32:55.141344Z",
          "shell.execute_reply": "2023-05-14T09:32:55.146301Z"
        },
        "trusted": true,
        "id": "WmGT4AAneDh2"
      },
      "execution_count": 12,
      "outputs": []
    },
    {
      "cell_type": "code",
      "source": [
        "df = df.drop_duplicates()\n",
        "df.shape"
      ],
      "metadata": {
        "execution": {
          "iopub.status.busy": "2023-05-14T09:32:55.149214Z",
          "iopub.execute_input": "2023-05-14T09:32:55.149566Z",
          "iopub.status.idle": "2023-05-14T09:32:55.164549Z",
          "shell.execute_reply.started": "2023-05-14T09:32:55.149537Z",
          "shell.execute_reply": "2023-05-14T09:32:55.163667Z"
        },
        "trusted": true,
        "id": "jKH-1GzFeDh2",
        "outputId": "cf39bc39-8ad8-432e-df96-1f2a96eb356b",
        "colab": {
          "base_uri": "https://localhost:8080/"
        }
      },
      "execution_count": 13,
      "outputs": [
        {
          "output_type": "execute_result",
          "data": {
            "text/plain": [
              "(107, 7)"
            ]
          },
          "metadata": {},
          "execution_count": 13
        }
      ]
    },
    {
      "cell_type": "markdown",
      "source": [
        "> *There are total 107 different combinations, this may sounds really less but keep in mind that all the features and labels has combination of only two or three unique values.*"
      ],
      "metadata": {
        "id": "C7ocbtiCeDh2"
      }
    },
    {
      "cell_type": "markdown",
      "source": [
        "> *The less number will generalize more but detection time will be alot faster.*"
      ],
      "metadata": {
        "id": "3QnB4h-meDh2"
      }
    },
    {
      "cell_type": "code",
      "source": [
        "df.isnull().sum()"
      ],
      "metadata": {
        "execution": {
          "iopub.status.busy": "2023-05-14T09:32:55.166064Z",
          "iopub.execute_input": "2023-05-14T09:32:55.166649Z",
          "iopub.status.idle": "2023-05-14T09:32:55.175661Z",
          "shell.execute_reply.started": "2023-05-14T09:32:55.166583Z",
          "shell.execute_reply": "2023-05-14T09:32:55.174413Z"
        },
        "trusted": true,
        "id": "LC_LU_FSeDh2",
        "outputId": "de3dbb65-3f43-4019-b1d1-7a93fea87ec3",
        "colab": {
          "base_uri": "https://localhost:8080/"
        }
      },
      "execution_count": 14,
      "outputs": [
        {
          "output_type": "execute_result",
          "data": {
            "text/plain": [
              "URL_Length                  0\n",
              "having_At_Symbol            0\n",
              "double_slash_redirecting    0\n",
              "HavingHyphen                0\n",
              "Page_Rank                   0\n",
              "Google_Index                0\n",
              "Result                      0\n",
              "dtype: int64"
            ]
          },
          "metadata": {},
          "execution_count": 14
        }
      ]
    },
    {
      "cell_type": "code",
      "source": [
        "df['Result'].value_counts(normalize=True)"
      ],
      "metadata": {
        "execution": {
          "iopub.status.busy": "2023-05-14T09:32:55.179855Z",
          "iopub.execute_input": "2023-05-14T09:32:55.180654Z",
          "iopub.status.idle": "2023-05-14T09:32:55.188576Z",
          "shell.execute_reply.started": "2023-05-14T09:32:55.180623Z",
          "shell.execute_reply": "2023-05-14T09:32:55.187393Z"
        },
        "trusted": true,
        "id": "zuyzwQ9YeDh2",
        "outputId": "6776be7f-702d-4da0-c8a6-d00f2081ede8",
        "colab": {
          "base_uri": "https://localhost:8080/"
        }
      },
      "execution_count": 15,
      "outputs": [
        {
          "output_type": "execute_result",
          "data": {
            "text/plain": [
              " 1    0.626168\n",
              "-1    0.373832\n",
              "Name: Result, dtype: float64"
            ]
          },
          "metadata": {},
          "execution_count": 15
        }
      ]
    },
    {
      "cell_type": "markdown",
      "source": [
        "> *1 means legitimate, and -1 is phishing.*"
      ],
      "metadata": {
        "id": "PxozVip1eDh2"
      }
    },
    {
      "cell_type": "code",
      "source": [
        "X = df.drop('Result', axis=1)\n",
        "y = df['Result']"
      ],
      "metadata": {
        "execution": {
          "iopub.status.busy": "2023-05-14T09:32:55.189838Z",
          "iopub.execute_input": "2023-05-14T09:32:55.190399Z",
          "iopub.status.idle": "2023-05-14T09:32:55.196956Z",
          "shell.execute_reply.started": "2023-05-14T09:32:55.190369Z",
          "shell.execute_reply": "2023-05-14T09:32:55.196212Z"
        },
        "trusted": true,
        "id": "LoF5mjJZeDh2"
      },
      "execution_count": 16,
      "outputs": []
    },
    {
      "cell_type": "code",
      "source": [
        "from sklearn.model_selection import train_test_split\n",
        "\n",
        "\n",
        "X_train, X_test, y_train, y_test = train_test_split(X, y, test_size=0.2, random_state=0, stratify=y)\n"
      ],
      "metadata": {
        "execution": {
          "iopub.status.busy": "2023-05-14T09:32:55.198081Z",
          "iopub.execute_input": "2023-05-14T09:32:55.199105Z",
          "iopub.status.idle": "2023-05-14T09:32:55.682652Z",
          "shell.execute_reply.started": "2023-05-14T09:32:55.199049Z",
          "shell.execute_reply": "2023-05-14T09:32:55.681263Z"
        },
        "trusted": true,
        "id": "kMWyjFY7eDh3"
      },
      "execution_count": 17,
      "outputs": []
    },
    {
      "cell_type": "code",
      "source": [
        "print(X_train.shape)\n",
        "print(X_test.shape)"
      ],
      "metadata": {
        "execution": {
          "iopub.status.busy": "2023-05-14T09:32:55.683856Z",
          "iopub.execute_input": "2023-05-14T09:32:55.684146Z",
          "iopub.status.idle": "2023-05-14T09:32:55.688931Z",
          "shell.execute_reply.started": "2023-05-14T09:32:55.684118Z",
          "shell.execute_reply": "2023-05-14T09:32:55.688125Z"
        },
        "trusted": true,
        "id": "ihS3BpBYeDh3",
        "outputId": "7b2ccbae-b297-4e96-e365-b74ec82d7bf6",
        "colab": {
          "base_uri": "https://localhost:8080/"
        }
      },
      "execution_count": 18,
      "outputs": [
        {
          "output_type": "stream",
          "name": "stdout",
          "text": [
            "(85, 6)\n",
            "(22, 6)\n"
          ]
        }
      ]
    },
    {
      "cell_type": "markdown",
      "source": [
        "# > *Logistic Regression*"
      ],
      "metadata": {
        "id": "ynwflFuzeDh3"
      }
    },
    {
      "cell_type": "markdown",
      "source": [
        "> *Aim:> Maximizing True Positive Rate leveraging False Positive Rate using ROC curve.*"
      ],
      "metadata": {
        "id": "lw8vKZIueDh3"
      }
    },
    {
      "cell_type": "markdown",
      "source": [
        "> *Nice tutorial on ROC and AUC by StatQuest with Josh Starmer\n",
        ":> https://youtu.be/4jRBRDbJemM*"
      ],
      "metadata": {
        "id": "z0U7VRk9eDh3"
      }
    },
    {
      "cell_type": "markdown",
      "source": [
        "> *Reason for analysing roc on only Logistic Regression algorithm.\n",
        "1.They are fast in predicting a new data instance.\n",
        "2.They outputs the result of each instance in probability between 0-1(Some algorithms does'nt and this is important because we can pick and choose threshold properly)..*"
      ],
      "metadata": {
        "id": "D-Q8DWY6eDh3"
      }
    },
    {
      "cell_type": "markdown",
      "source": [
        "> *SVM has greater AUC(Area Under Curve) so we will go from here.*"
      ],
      "metadata": {
        "id": "QJXl6kMAeDh3"
      }
    },
    {
      "cell_type": "code",
      "source": [
        "import numpy as np\n",
        "import matplotlib.pyplot as plt\n",
        "from sklearn.metrics import roc_curve, auc\n",
        "from sklearn.linear_model import LogisticRegression\n",
        "\n",
        "\n",
        "LG = LogisticRegression()\n",
        "LG.fit(X_train, y_train)\n",
        "y_pred_prob = LG.predict_proba(X_train)[:, 1]\n",
        "\n",
        "# Calculate the FPR, TPR, and thresholds\n",
        "fpr, tpr, thresholds = roc_curve(y_train, y_pred_prob)\n",
        "\n",
        "# Plot the ROC curve\n",
        "plt.figure(figsize=(8, 6))\n",
        "plt.plot(fpr, tpr, label='ROC curve (AUC = {:.2f})'.format(auc(fpr, tpr)))\n",
        "plt.plot([0, 1], [0, 1], 'k--')  # Diagonal line representing random guessing\n",
        "plt.xlabel('False Positive Rate')\n",
        "plt.ylabel('True Positive Rate')\n",
        "plt.title('Receiver Operating Characteristic (ROC) Curve')\n",
        "plt.legend(loc='lower right')\n",
        "\n",
        "# Display threshold values as annotations\n",
        "for i, threshold in enumerate(thresholds):\n",
        "    plt.annotate('{:.2f}'.format(threshold), (fpr[i], tpr[i]), textcoords=\"offset points\", xytext=(5, -10), ha='center')\n",
        "\n",
        "plt.show()\n",
        "\n",
        "\n",
        "\n",
        "\n"
      ],
      "metadata": {
        "execution": {
          "iopub.status.busy": "2023-05-14T09:32:55.689994Z",
          "iopub.execute_input": "2023-05-14T09:32:55.690567Z",
          "iopub.status.idle": "2023-05-14T09:32:55.989811Z",
          "shell.execute_reply.started": "2023-05-14T09:32:55.690542Z",
          "shell.execute_reply": "2023-05-14T09:32:55.988767Z"
        },
        "trusted": true,
        "id": "MXJcqDSPeDh3",
        "outputId": "68a598fc-7be5-47d7-b620-88235f8f3732",
        "colab": {
          "base_uri": "https://localhost:8080/",
          "height": 564
        }
      },
      "execution_count": 19,
      "outputs": [
        {
          "output_type": "display_data",
          "data": {
            "text/plain": [
              "<Figure size 800x600 with 1 Axes>"
            ],
            "image/png": "[encoded data removed]"
          },
          "metadata": {}
        }
      ]
    },
    {
      "cell_type": "code",
      "source": [
        "from sklearn.metrics import confusion_matrix\n",
        "\n",
        "LG = LogisticRegression()\n",
        "LG.fit(X_train, y_train)\n",
        "# Predict on the test set\n",
        "\n",
        "print(\"Before:>\")\n",
        "print('Training Accuracy: ', LG.score(X_train,y_train))\n",
        "print('Testing Accuracy ', LG.score(X_test, y_test))\n",
        "tn, fp, fn, tp = confusion_matrix(y_train,LG.predict(X_train)).ravel()\n",
        "print('Training True Positive Rate: ', (tp)/(tp+fn))\n",
        "\n",
        "tn, fp, fn, tp = confusion_matrix(y_test,LG.predict(X_test)).ravel()\n",
        "print('Testing True Positive Rate: ', (tp)/(tp+fn))\n",
        "\n"
      ],
      "metadata": {
        "execution": {
          "iopub.status.busy": "2023-05-14T09:32:55.991372Z",
          "iopub.execute_input": "2023-05-14T09:32:55.991718Z",
          "iopub.status.idle": "2023-05-14T09:32:56.013451Z",
          "shell.execute_reply.started": "2023-05-14T09:32:55.99169Z",
          "shell.execute_reply": "2023-05-14T09:32:56.01215Z"
        },
        "trusted": true,
        "id": "z6_-djOWeDh3",
        "outputId": "98f68ffb-5a59-442d-a0b6-cd60b192759b",
        "colab": {
          "base_uri": "https://localhost:8080/"
        }
      },
      "execution_count": 20,
      "outputs": [
        {
          "output_type": "stream",
          "name": "stdout",
          "text": [
            "Before:>\n",
            "Training Accuracy:  0.7294117647058823\n",
            "Testing Accuracy  0.45454545454545453\n",
            "Training True Positive Rate:  0.7735849056603774\n",
            "Testing True Positive Rate:  0.5714285714285714\n"
          ]
        }
      ]
    },
    {
      "cell_type": "code",
      "source": [
        "print(\"After:>\")\n",
        "y_pred_train = LG.predict_proba(X_train)\n",
        "y_pred_test = LG.predict_proba(X_test)\n",
        "result_train = np.where(y_pred_train[:,1] < 0.42, -1, 1)\n",
        "result_test = np.where(y_pred_test[:,1] < 0.42, -1, 1)\n",
        "\n",
        "print('Training Accuracy: ', LG.score(X_train,result_train))\n",
        "print('Testing Accuracy ', LG.score(X_test, result_test))\n",
        "\n",
        "tn, fp, fn, tp = confusion_matrix(y_train,result_train).ravel()\n",
        "print('Training True Positive Rate: ', (tp)/(tp+fn))\n",
        "\n",
        "tn, fp, fn, tp = confusion_matrix(y_test,result_test).ravel()\n",
        "print('Testing True Positive Rate: ', (tp)/(tp+fn))\n",
        "\n"
      ],
      "metadata": {
        "execution": {
          "iopub.status.busy": "2023-05-14T09:32:56.014661Z",
          "iopub.execute_input": "2023-05-14T09:32:56.015217Z",
          "iopub.status.idle": "2023-05-14T09:32:56.031326Z",
          "shell.execute_reply.started": "2023-05-14T09:32:56.015183Z",
          "shell.execute_reply": "2023-05-14T09:32:56.030252Z"
        },
        "trusted": true,
        "id": "da77pOgmeDh3",
        "outputId": "845ddffe-f4a0-4580-f4ca-9cae9b2fa9a8",
        "colab": {
          "base_uri": "https://localhost:8080/"
        }
      },
      "execution_count": 21,
      "outputs": [
        {
          "output_type": "stream",
          "name": "stdout",
          "text": [
            "After:>\n",
            "Training Accuracy:  0.8352941176470589\n",
            "Testing Accuracy  0.8181818181818182\n",
            "Training True Positive Rate:  0.8679245283018868\n",
            "Testing True Positive Rate:  0.7857142857142857\n"
          ]
        }
      ]
    },
    {
      "cell_type": "markdown",
      "source": [
        "# > *Predicting a new URL if its a Phishing or not.*"
      ],
      "metadata": {
        "id": "__258ov2eDh4"
      }
    },
    {
      "cell_type": "code",
      "source": [
        "new_url = 'https://www.google.com'"
      ],
      "metadata": {
        "execution": {
          "iopub.status.busy": "2023-05-14T09:32:56.032643Z",
          "iopub.execute_input": "2023-05-14T09:32:56.032985Z",
          "iopub.status.idle": "2023-05-14T09:32:56.037428Z",
          "shell.execute_reply.started": "2023-05-14T09:32:56.032957Z",
          "shell.execute_reply": "2023-05-14T09:32:56.036465Z"
        },
        "trusted": true,
        "id": "4bAtsGtEeDh4"
      },
      "execution_count": 22,
      "outputs": []
    },
    {
      "cell_type": "code",
      "source": [
        "df.head()"
      ],
      "metadata": {
        "execution": {
          "iopub.status.busy": "2023-05-14T09:32:56.039067Z",
          "iopub.execute_input": "2023-05-14T09:32:56.039588Z",
          "iopub.status.idle": "2023-05-14T09:32:56.053207Z",
          "shell.execute_reply.started": "2023-05-14T09:32:56.039559Z",
          "shell.execute_reply": "2023-05-14T09:32:56.052208Z"
        },
        "trusted": true,
        "id": "KI58mbyzeDh4",
        "outputId": "28aaa2d4-fccd-463d-e6b1-d18d012e1c84",
        "colab": {
          "base_uri": "https://localhost:8080/",
          "height": 206
        }
      },
      "execution_count": 23,
      "outputs": [
        {
          "output_type": "execute_result",
          "data": {
            "text/plain": [
              "   URL_Length  having_At_Symbol  double_slash_redirecting  HavingHyphen  \\\n",
              "0           1                 1                        -1            -1   \n",
              "1           1                 1                         1            -1   \n",
              "2           0                 1                         1            -1   \n",
              "4           0                 1                         1            -1   \n",
              "5           0                 1                        -1            -1   \n",
              "\n",
              "   Page_Rank  Google_Index  Result  \n",
              "0         -1             1      -1  \n",
              "1         -1             1      -1  \n",
              "2         -1             1      -1  \n",
              "4         -1             1       1  \n",
              "5         -1             1       1  "
            ],
            "text/html": [
              "\n",
              "  <div id=\"df-950b1e12-6d4d-4861-a5ba-16127e3bd59c\" class=\"colab-df-container\">\n",
              "    <div>\n",
              "<style scoped>\n",
              "    .dataframe tbody tr th:only-of-type {\n",
              "        vertical-align: middle;\n",
              "    }\n",
              "\n",
              "    .dataframe tbody tr th {\n",
              "        vertical-align: top;\n",
              "    }\n",
              "\n",
              "    .dataframe thead th {\n",
              "        text-align: right;\n",
              "    }\n",
              "</style>\n",
              "<table border=\"1\" class=\"dataframe\">\n",
              "  <thead>\n",
              "    <tr style=\"text-align: right;\">\n",
              "      <th></th>\n",
              "      <th>URL_Length</th>\n",
              "      <th>having_At_Symbol</th>\n",
              "      <th>double_slash_redirecting</th>\n",
              "      <th>HavingHyphen</th>\n",
              "      <th>Page_Rank</th>\n",
              "      <th>Google_Index</th>\n",
              "      <th>Result</th>\n",
              "    </tr>\n",
              "  </thead>\n",
              "  <tbody>\n",
              "    <tr>\n",
              "      <th>0</th>\n",
              "      <td>1</td>\n",
              "      <td>1</td>\n",
              "      <td>-1</td>\n",
              "      <td>-1</td>\n",
              "      <td>-1</td>\n",
              "      <td>1</td>\n",
              "      <td>-1</td>\n",
              "    </tr>\n",
              "    <tr>\n",
              "      <th>1</th>\n",
              "      <td>1</td>\n",
              "      <td>1</td>\n",
              "      <td>1</td>\n",
              "      <td>-1</td>\n",
              "      <td>-1</td>\n",
              "      <td>1</td>\n",
              "      <td>-1</td>\n",
              "    </tr>\n",
              "    <tr>\n",
              "      <th>2</th>\n",
              "      <td>0</td>\n",
              "      <td>1</td>\n",
              "      <td>1</td>\n",
              "      <td>-1</td>\n",
              "      <td>-1</td>\n",
              "      <td>1</td>\n",
              "      <td>-1</td>\n",
              "    </tr>\n",
              "    <tr>\n",
              "      <th>4</th>\n",
              "      <td>0</td>\n",
              "      <td>1</td>\n",
              "      <td>1</td>\n",
              "      <td>-1</td>\n",
              "      <td>-1</td>\n",
              "      <td>1</td>\n",
              "      <td>1</td>\n",
              "    </tr>\n",
              "    <tr>\n",
              "      <th>5</th>\n",
              "      <td>0</td>\n",
              "      <td>1</td>\n",
              "      <td>-1</td>\n",
              "      <td>-1</td>\n",
              "      <td>-1</td>\n",
              "      <td>1</td>\n",
              "      <td>1</td>\n",
              "    </tr>\n",
              "  </tbody>\n",
              "</table>\n",
              "</div>\n",
              "    <div class=\"colab-df-buttons\">\n",
              "\n",
              "  <div class=\"colab-df-container\">\n",
              "    <button class=\"colab-df-convert\" onclick=\"convertToInteractive('df-950b1e12-6d4d-4861-a5ba-16127e3bd59c')\"\n",
              "            title=\"Convert this dataframe to an interactive table.\"\n",
              "            style=\"display:none;\">\n",
              "\n",
              "  <svg xmlns=\"http://www.w3.org/2000/svg\" height=\"24px\" viewBox=\"0 -960 960 960\">\n",
              "    <path d=\"M120-120v-720h720v720H120Zm60-500h600v-160H180v160Zm220 220h160v-160H400v160Zm0 220h160v-160H400v160ZM180-400h160v-160H180v160Zm440 0h160v-160H620v160ZM180-180h160v-160H180v160Zm440 0h160v-160H620v160Z\"/>\n",
              "  </svg>\n",
              "    </button>\n",
              "\n",
              "  <style>\n",
              "    .colab-df-container {\n",
              "      display:flex;\n",
              "      gap: 12px;\n",
              "    }\n",
              "\n",
              "    .colab-df-convert {\n",
              "      background-color: #E8F0FE;\n",
              "      border: none;\n",
              "      border-radius: 50%;\n",
              "      cursor: pointer;\n",
              "      display: none;\n",
              "      fill: #1967D2;\n",
              "      height: 32px;\n",
              "      padding: 0 0 0 0;\n",
              "      width: 32px;\n",
              "    }\n",
              "\n",
              "    .colab-df-convert:hover {\n",
              "      background-color: #E2EBFA;\n",
              "      box-shadow: 0px 1px 2px rgba(60, 64, 67, 0.3), 0px 1px 3px 1px rgba(60, 64, 67, 0.15);\n",
              "      fill: #174EA6;\n",
              "    }\n",
              "\n",
              "    .colab-df-buttons div {\n",
              "      margin-bottom: 4px;\n",
              "    }\n",
              "\n",
              "    [theme=dark] .colab-df-convert {\n",
              "      background-color: #3B4455;\n",
              "      fill: #D2E3FC;\n",
              "    }\n",
              "\n",
              "    [theme=dark] .colab-df-convert:hover {\n",
              "      background-color: #434B5C;\n",
              "      box-shadow: 0px 1px 3px 1px rgba(0, 0, 0, 0.15);\n",
              "      filter: drop-shadow(0px 1px 2px rgba(0, 0, 0, 0.3));\n",
              "      fill: #FFFFFF;\n",
              "    }\n",
              "  </style>\n",
              "\n",
              "    <script>\n",
              "      const buttonEl =\n",
              "        document.querySelector('#df-950b1e12-6d4d-4861-a5ba-16127e3bd59c button.colab-df-convert');\n",
              "      buttonEl.style.display =\n",
              "        google.colab.kernel.accessAllowed ? 'block' : 'none';\n",
              "\n",
              "      async function convertToInteractive(key) {\n",
              "        const element = document.querySelector('#df-950b1e12-6d4d-4861-a5ba-16127e3bd59c');\n",
              "        const dataTable =\n",
              "          await google.colab.kernel.invokeFunction('convertToInteractive',\n",
              "                                                    [key], {});\n",
              "        if (!dataTable) return;\n",
              "\n",
              "        const docLinkHtml = 'Like what you see? Visit the ' +\n",
              "          '<a target=\"_blank\" href=https://colab.research.google.com/notebooks/data_table.ipynb>data table notebook</a>'\n",
              "          + ' to learn more about interactive tables.';\n",
              "        element.innerHTML = '';\n",
              "        dataTable['output_type'] = 'display_data';\n",
              "        await google.colab.output.renderOutput(dataTable, element);\n",
              "        const docLink = document.createElement('div');\n",
              "        docLink.innerHTML = docLinkHtml;\n",
              "        element.appendChild(docLink);\n",
              "      }\n",
              "    </script>\n",
              "  </div>\n",
              "\n",
              "\n",
              "<div id=\"df-8d559bda-b46d-46e1-b92c-564a7e4f9352\">\n",
              "  <button class=\"colab-df-quickchart\" onclick=\"quickchart('df-8d559bda-b46d-46e1-b92c-564a7e4f9352')\"\n",
              "            title=\"Suggest charts\"\n",
              "            style=\"display:none;\">\n",
              "\n",
              "<svg xmlns=\"http://www.w3.org/2000/svg\" height=\"24px\"viewBox=\"0 0 24 24\"\n",
              "     width=\"24px\">\n",
              "    <g>\n",
              "        <path d=\"M19 3H5c-1.1 0-2 .9-2 2v14c0 1.1.9 2 2 2h14c1.1 0 2-.9 2-2V5c0-1.1-.9-2-2-2zM9 17H7v-7h2v7zm4 0h-2V7h2v10zm4 0h-2v-4h2v4z\"/>\n",
              "    </g>\n",
              "</svg>\n",
              "  </button>\n",
              "\n",
              "<style>\n",
              "  .colab-df-quickchart {\n",
              "      --bg-color: #E8F0FE;\n",
              "      --fill-color: #1967D2;\n",
              "      --hover-bg-color: #E2EBFA;\n",
              "      --hover-fill-color: #174EA6;\n",
              "      --disabled-fill-color: #AAA;\n",
              "      --disabled-bg-color: #DDD;\n",
              "  }\n",
              "\n",
              "  [theme=dark] .colab-df-quickchart {\n",
              "      --bg-color: #3B4455;\n",
              "      --fill-color: #D2E3FC;\n",
              "      --hover-bg-color: #434B5C;\n",
              "      --hover-fill-color: #FFFFFF;\n",
              "      --disabled-bg-color: #3B4455;\n",
              "      --disabled-fill-color: #666;\n",
              "  }\n",
              "\n",
              "  .colab-df-quickchart {\n",
              "    background-color: var(--bg-color);\n",
              "    border: none;\n",
              "    border-radius: 50%;\n",
              "    cursor: pointer;\n",
              "    display: none;\n",
              "    fill: var(--fill-color);\n",
              "    height: 32px;\n",
              "    padding: 0;\n",
              "    width: 32px;\n",
              "  }\n",
              "\n",
              "  .colab-df-quickchart:hover {\n",
              "    background-color: var(--hover-bg-color);\n",
              "    box-shadow: 0 1px 2px rgba(60, 64, 67, 0.3), 0 1px 3px 1px rgba(60, 64, 67, 0.15);\n",
              "    fill: var(--button-hover-fill-color);\n",
              "  }\n",
              "\n",
              "  .colab-df-quickchart-complete:disabled,\n",
              "  .colab-df-quickchart-complete:disabled:hover {\n",
              "    background-color: var(--disabled-bg-color);\n",
              "    fill: var(--disabled-fill-color);\n",
              "    box-shadow: none;\n",
              "  }\n",
              "\n",
              "  .colab-df-spinner {\n",
              "    border: 2px solid var(--fill-color);\n",
              "    border-color: transparent;\n",
              "    border-bottom-color: var(--fill-color);\n",
              "    animation:\n",
              "      spin 1s steps(1) infinite;\n",
              "  }\n",
              "\n",
              "  @keyframes spin {\n",
              "    0% {\n",
              "      border-color: transparent;\n",
              "      border-bottom-color: var(--fill-color);\n",
              "      border-left-color: var(--fill-color);\n",
              "    }\n",
              "    20% {\n",
              "      border-color: transparent;\n",
              "      border-left-color: var(--fill-color);\n",
              "      border-top-color: var(--fill-color);\n",
              "    }\n",
              "    30% {\n",
              "      border-color: transparent;\n",
              "      border-left-color: var(--fill-color);\n",
              "      border-top-color: var(--fill-color);\n",
              "      border-right-color: var(--fill-color);\n",
              "    }\n",
              "    40% {\n",
              "      border-color: transparent;\n",
              "      border-right-color: var(--fill-color);\n",
              "      border-top-color: var(--fill-color);\n",
              "    }\n",
              "    60% {\n",
              "      border-color: transparent;\n",
              "      border-right-color: var(--fill-color);\n",
              "    }\n",
              "    80% {\n",
              "      border-color: transparent;\n",
              "      border-right-color: var(--fill-color);\n",
              "      border-bottom-color: var(--fill-color);\n",
              "    }\n",
              "    90% {\n",
              "      border-color: transparent;\n",
              "      border-bottom-color: var(--fill-color);\n",
              "    }\n",
              "  }\n",
              "</style>\n",
              "\n",
              "  <script>\n",
              "    async function quickchart(key) {\n",
              "      const quickchartButtonEl =\n",
              "        document.querySelector('#' + key + ' button');\n",
              "      quickchartButtonEl.disabled = true;  // To prevent multiple clicks.\n",
              "      quickchartButtonEl.classList.add('colab-df-spinner');\n",
              "      try {\n",
              "        const charts = await google.colab.kernel.invokeFunction(\n",
              "            'suggestCharts', [key], {});\n",
              "      } catch (error) {\n",
              "        console.error('Error during call to suggestCharts:', error);\n",
              "      }\n",
              "      quickchartButtonEl.classList.remove('colab-df-spinner');\n",
              "      quickchartButtonEl.classList.add('colab-df-quickchart-complete');\n",
              "    }\n",
              "    (() => {\n",
              "      let quickchartButtonEl =\n",
              "        document.querySelector('#df-8d559bda-b46d-46e1-b92c-564a7e4f9352 button');\n",
              "      quickchartButtonEl.style.display =\n",
              "        google.colab.kernel.accessAllowed ? 'block' : 'none';\n",
              "    })();\n",
              "  </script>\n",
              "</div>\n",
              "\n",
              "    </div>\n",
              "  </div>\n"
            ],
            "application/vnd.google.colaboratory.intrinsic+json": {
              "type": "dataframe",
              "variable_name": "df",
              "summary": "{\n  \"name\": \"df\",\n  \"rows\": 107,\n  \"fields\": [\n    {\n      \"column\": \"URL_Length\",\n      \"properties\": {\n        \"dtype\": \"number\",\n        \"std\": 0,\n        \"min\": -1,\n        \"max\": 1,\n        \"num_unique_values\": 3,\n        \"samples\": [\n          1,\n          0,\n          -1\n        ],\n        \"semantic_type\": \"\",\n        \"description\": \"\"\n      }\n    },\n    {\n      \"column\": \"having_At_Symbol\",\n      \"properties\": {\n        \"dtype\": \"number\",\n        \"std\": 1,\n        \"min\": -1,\n        \"max\": 1,\n        \"num_unique_values\": 2,\n        \"samples\": [\n          -1,\n          1\n        ],\n        \"semantic_type\": \"\",\n        \"description\": \"\"\n      }\n    },\n    {\n      \"column\": \"double_slash_redirecting\",\n      \"properties\": {\n        \"dtype\": \"number\",\n        \"std\": 1,\n        \"min\": -1,\n        \"max\": 1,\n        \"num_unique_values\": 2,\n        \"samples\": [\n          1,\n          -1\n        ],\n        \"semantic_type\": \"\",\n        \"description\": \"\"\n      }\n    },\n    {\n      \"column\": \"HavingHyphen\",\n      \"properties\": {\n        \"dtype\": \"number\",\n        \"std\": 0,\n        \"min\": -1,\n        \"max\": 1,\n        \"num_unique_values\": 2,\n        \"samples\": [\n          1,\n          -1\n        ],\n        \"semantic_type\": \"\",\n        \"description\": \"\"\n      }\n    },\n    {\n      \"column\": \"Page_Rank\",\n      \"properties\": {\n        \"dtype\": \"number\",\n        \"std\": 1,\n        \"min\": -1,\n        \"max\": 1,\n        \"num_unique_values\": 2,\n        \"samples\": [\n          1,\n          -1\n        ],\n        \"semantic_type\": \"\",\n        \"description\": \"\"\n      }\n    },\n    {\n      \"column\": \"Google_Index\",\n      \"properties\": {\n        \"dtype\": \"number\",\n        \"std\": 1,\n        \"min\": -1,\n        \"max\": 1,\n        \"num_unique_values\": 2,\n        \"samples\": [\n          -1,\n          1\n        ],\n        \"semantic_type\": \"\",\n        \"description\": \"\"\n      }\n    },\n    {\n      \"column\": \"Result\",\n      \"properties\": {\n        \"dtype\": \"number\",\n        \"std\": 0,\n        \"min\": -1,\n        \"max\": 1,\n        \"num_unique_values\": 2,\n        \"samples\": [\n          1,\n          -1\n        ],\n        \"semantic_type\": \"\",\n        \"description\": \"\"\n      }\n    }\n  ]\n}"
            }
          },
          "metadata": {},
          "execution_count": 23
        }
      ]
    },
    {
      "cell_type": "markdown",
      "source": [
        "> *1 means legitimate, 0 is suspicious and -1 is phishing.*"
      ],
      "metadata": {
        "id": "V32_ZunEeDh4"
      }
    },
    {
      "cell_type": "code",
      "source": [
        "url_len = len(new_url)\n",
        "URL_Length = -1\n",
        "if url_len < 54:\n",
        "    URL_Length = 1\n",
        "elif url_len >= 54 and url_len <=75:\n",
        "    URL_Length = 0\n"
      ],
      "metadata": {
        "execution": {
          "iopub.status.busy": "2023-05-14T09:32:56.054305Z",
          "iopub.execute_input": "2023-05-14T09:32:56.054575Z",
          "iopub.status.idle": "2023-05-14T09:32:56.067428Z",
          "shell.execute_reply.started": "2023-05-14T09:32:56.054553Z",
          "shell.execute_reply": "2023-05-14T09:32:56.066153Z"
        },
        "trusted": true,
        "id": "zojv2VGheDh4"
      },
      "execution_count": 24,
      "outputs": []
    },
    {
      "cell_type": "code",
      "source": [
        "having_At_Symbol = -1\n",
        "if new_url.find(\"@\")==-1:\n",
        "    having_At_Symbol = 1\n",
        "print(having_At_Symbol)"
      ],
      "metadata": {
        "execution": {
          "iopub.status.busy": "2023-05-14T09:32:56.068623Z",
          "iopub.execute_input": "2023-05-14T09:32:56.069738Z",
          "iopub.status.idle": "2023-05-14T09:32:56.08145Z",
          "shell.execute_reply.started": "2023-05-14T09:32:56.06968Z",
          "shell.execute_reply": "2023-05-14T09:32:56.080535Z"
        },
        "trusted": true,
        "id": "dnheTwQ-eDh4",
        "outputId": "6235af8f-b037-4373-d610-3b2e3f3ebaa3",
        "colab": {
          "base_uri": "https://localhost:8080/"
        }
      },
      "execution_count": 25,
      "outputs": [
        {
          "output_type": "stream",
          "name": "stdout",
          "text": [
            "1\n"
          ]
        }
      ]
    },
    {
      "cell_type": "code",
      "source": [
        "try:\n",
        "    position = new_url.index(\"//\")\n",
        "except ValueError:\n",
        "    double_slash_redirecting=-1\n",
        "if position+1 > 7:\n",
        "    double_slash_redirecting=-1\n",
        "else:\n",
        "    double_slash_redirecting=1\n",
        "print(double_slash_redirecting)"
      ],
      "metadata": {
        "execution": {
          "iopub.status.busy": "2023-05-14T09:32:56.082614Z",
          "iopub.execute_input": "2023-05-14T09:32:56.082905Z",
          "iopub.status.idle": "2023-05-14T09:32:56.096672Z",
          "shell.execute_reply.started": "2023-05-14T09:32:56.082881Z",
          "shell.execute_reply": "2023-05-14T09:32:56.095646Z"
        },
        "trusted": true,
        "id": "LBnFu1FFeDh4",
        "outputId": "7af43ae6-ba94-4eb6-d3a0-e115347b83fe",
        "colab": {
          "base_uri": "https://localhost:8080/"
        }
      },
      "execution_count": 26,
      "outputs": [
        {
          "output_type": "stream",
          "name": "stdout",
          "text": [
            "1\n"
          ]
        }
      ]
    },
    {
      "cell_type": "code",
      "source": [
        "HavingHyphen = -1\n",
        "if new_url.find(\"-\")==-1:\n",
        "    HavingHyphen = 1\n",
        "print(HavingHyphen)"
      ],
      "metadata": {
        "execution": {
          "iopub.status.busy": "2023-05-14T09:32:56.099707Z",
          "iopub.execute_input": "2023-05-14T09:32:56.100019Z",
          "iopub.status.idle": "2023-05-14T09:32:56.110245Z",
          "shell.execute_reply.started": "2023-05-14T09:32:56.099989Z",
          "shell.execute_reply": "2023-05-14T09:32:56.109265Z"
        },
        "trusted": true,
        "id": "9cD3vngpeDh4",
        "outputId": "8c03ab61-bd87-488e-f719-9ed075923700",
        "colab": {
          "base_uri": "https://localhost:8080/"
        }
      },
      "execution_count": 27,
      "outputs": [
        {
          "output_type": "stream",
          "name": "stdout",
          "text": [
            "1\n"
          ]
        }
      ]
    },
    {
      "cell_type": "markdown",
      "source": [
        "> *Page Rank value is received through api from https://www.domcop.com/openpagerank/documentation*"
      ],
      "metadata": {
        "id": "LixQ7xVoeDh5"
      }
    },
    {
      "cell_type": "code",
      "source": [
        "import requests\n",
        "from urllib.parse import urlparse\n",
        "\n",
        "\n",
        "headers = {'API-OPR':'c8g4404gswswcok8s0k4404ko4g00oo8w4ks84g4'}\n",
        "requested_url = 'https://www.google.com/docs/about/'\n",
        "parsed_url = urlparse(requested_url)\n",
        "domain = parsed_url.netloc\n",
        "url = 'https://openpagerank.com/api/v1.0/getPageRank?domains%5B0%5D=' + domain\n",
        "request = requests.get(url, headers=headers)\n",
        "result = request.json()\n"
      ],
      "metadata": {
        "execution": {
          "iopub.status.busy": "2023-05-14T09:32:56.111452Z",
          "iopub.execute_input": "2023-05-14T09:32:56.111783Z",
          "iopub.status.idle": "2023-05-14T09:32:56.59547Z",
          "shell.execute_reply.started": "2023-05-14T09:32:56.111754Z",
          "shell.execute_reply": "2023-05-14T09:32:56.594835Z"
        },
        "trusted": true,
        "id": "PDSl06KNeDh5"
      },
      "execution_count": 28,
      "outputs": []
    },
    {
      "cell_type": "code",
      "source": [
        "page_rank = result['response'][0]['page_rank_decimal']\n",
        "if page_rank < 20:\n",
        "    Page_Rank = -1\n",
        "else:\n",
        "    Page_Rank = 1\n",
        "print(Page_Rank)"
      ],
      "metadata": {
        "execution": {
          "iopub.status.busy": "2023-05-14T09:32:56.597201Z",
          "iopub.execute_input": "2023-05-14T09:32:56.597458Z",
          "iopub.status.idle": "2023-05-14T09:32:56.603172Z",
          "shell.execute_reply.started": "2023-05-14T09:32:56.597436Z",
          "shell.execute_reply": "2023-05-14T09:32:56.601785Z"
        },
        "trusted": true,
        "id": "LterbeaaeDh5",
        "outputId": "4e1105dc-2ac8-48ad-8eb0-135a38c8f071",
        "colab": {
          "base_uri": "https://localhost:8080/"
        }
      },
      "execution_count": 29,
      "outputs": [
        {
          "output_type": "stream",
          "name": "stdout",
          "text": [
            "-1\n"
          ]
        }
      ]
    },
    {
      "cell_type": "code",
      "source": [
        "requested_url = 'http://ebrpnvvjgd.duckdns.org'\n",
        "parsed_url = urlparse(requested_url)\n",
        "domain = parsed_url.netloc\n",
        "domain"
      ],
      "metadata": {
        "execution": {
          "iopub.status.busy": "2023-05-14T09:32:56.604449Z",
          "iopub.execute_input": "2023-05-14T09:32:56.604769Z",
          "iopub.status.idle": "2023-05-14T09:32:56.615316Z",
          "shell.execute_reply.started": "2023-05-14T09:32:56.604743Z",
          "shell.execute_reply": "2023-05-14T09:32:56.614466Z"
        },
        "trusted": true,
        "id": "QoARjyK0eDh5",
        "outputId": "8a444606-aa7b-40e3-f073-7b098a57cb3f",
        "colab": {
          "base_uri": "https://localhost:8080/",
          "height": 36
        }
      },
      "execution_count": 30,
      "outputs": [
        {
          "output_type": "execute_result",
          "data": {
            "text/plain": [
              "'ebrpnvvjgd.duckdns.org'"
            ],
            "application/vnd.google.colaboratory.intrinsic+json": {
              "type": "string"
            }
          },
          "metadata": {},
          "execution_count": 30
        }
      ]
    },
    {
      "cell_type": "code",
      "source": [
        "import re\n",
        "import requests\n",
        "from bs4 import BeautifulSoup\n",
        "\n",
        "\n",
        "Google_Index = -1\n",
        "\n",
        "google = \"https://www.google.com/search?q=site:\" + domain + \"&hl=en\"\n",
        "response = requests.get(google, cookies={\"CONSENT\": \"YES+1\"})\n",
        "soup = BeautifulSoup(response.content, \"html.parser\")\n",
        "not_indexed = re.compile(\"did not match any documents\")\n",
        "\n",
        "if soup(text=not_indexed):\n",
        "  Google_Index =-1\n",
        "else:\n",
        "  Google_Index= 1\n",
        "print(Google_Index)"
      ],
      "metadata": {
        "execution": {
          "iopub.status.busy": "2023-05-14T09:32:56.616992Z",
          "iopub.execute_input": "2023-05-14T09:32:56.617389Z",
          "iopub.status.idle": "2023-05-14T09:32:56.994982Z",
          "shell.execute_reply.started": "2023-05-14T09:32:56.617319Z",
          "shell.execute_reply": "2023-05-14T09:32:56.993956Z"
        },
        "trusted": true,
        "id": "AB3BERO3eDh5",
        "outputId": "1a9a6e51-79c3-4740-b9c9-1f75630d5ea9",
        "colab": {
          "base_uri": "https://localhost:8080/"
        }
      },
      "execution_count": 31,
      "outputs": [
        {
          "output_type": "stream",
          "name": "stdout",
          "text": [
            "-1\n"
          ]
        }
      ]
    },
    {
      "cell_type": "code",
      "source": [
        "df.head()"
      ],
      "metadata": {
        "execution": {
          "iopub.status.busy": "2023-05-14T09:32:56.996355Z",
          "iopub.execute_input": "2023-05-14T09:32:56.996826Z",
          "iopub.status.idle": "2023-05-14T09:32:57.007927Z",
          "shell.execute_reply.started": "2023-05-14T09:32:56.996798Z",
          "shell.execute_reply": "2023-05-14T09:32:57.006522Z"
        },
        "trusted": true,
        "id": "UURQqXf8eDh5",
        "outputId": "d7c360b4-2162-46db-af83-614e02810478",
        "colab": {
          "base_uri": "https://localhost:8080/",
          "height": 206
        }
      },
      "execution_count": 32,
      "outputs": [
        {
          "output_type": "execute_result",
          "data": {
            "text/plain": [
              "   URL_Length  having_At_Symbol  double_slash_redirecting  HavingHyphen  \\\n",
              "0           1                 1                        -1            -1   \n",
              "1           1                 1                         1            -1   \n",
              "2           0                 1                         1            -1   \n",
              "4           0                 1                         1            -1   \n",
              "5           0                 1                        -1            -1   \n",
              "\n",
              "   Page_Rank  Google_Index  Result  \n",
              "0         -1             1      -1  \n",
              "1         -1             1      -1  \n",
              "2         -1             1      -1  \n",
              "4         -1             1       1  \n",
              "5         -1             1       1  "
            ],
            "text/html": [
              "\n",
              "  <div id=\"df-c780b490-2b87-4ec9-a5c0-888eb4624b75\" class=\"colab-df-container\">\n",
              "    <div>\n",
              "<style scoped>\n",
              "    .dataframe tbody tr th:only-of-type {\n",
              "        vertical-align: middle;\n",
              "    }\n",
              "\n",
              "    .dataframe tbody tr th {\n",
              "        vertical-align: top;\n",
              "    }\n",
              "\n",
              "    .dataframe thead th {\n",
              "        text-align: right;\n",
              "    }\n",
              "</style>\n",
              "<table border=\"1\" class=\"dataframe\">\n",
              "  <thead>\n",
              "    <tr style=\"text-align: right;\">\n",
              "      <th></th>\n",
              "      <th>URL_Length</th>\n",
              "      <th>having_At_Symbol</th>\n",
              "      <th>double_slash_redirecting</th>\n",
              "      <th>HavingHyphen</th>\n",
              "      <th>Page_Rank</th>\n",
              "      <th>Google_Index</th>\n",
              "      <th>Result</th>\n",
              "    </tr>\n",
              "  </thead>\n",
              "  <tbody>\n",
              "    <tr>\n",
              "      <th>0</th>\n",
              "      <td>1</td>\n",
              "      <td>1</td>\n",
              "      <td>-1</td>\n",
              "      <td>-1</td>\n",
              "      <td>-1</td>\n",
              "      <td>1</td>\n",
              "      <td>-1</td>\n",
              "    </tr>\n",
              "    <tr>\n",
              "      <th>1</th>\n",
              "      <td>1</td>\n",
              "      <td>1</td>\n",
              "      <td>1</td>\n",
              "      <td>-1</td>\n",
              "      <td>-1</td>\n",
              "      <td>1</td>\n",
              "      <td>-1</td>\n",
              "    </tr>\n",
              "    <tr>\n",
              "      <th>2</th>\n",
              "      <td>0</td>\n",
              "      <td>1</td>\n",
              "      <td>1</td>\n",
              "      <td>-1</td>\n",
              "      <td>-1</td>\n",
              "      <td>1</td>\n",
              "      <td>-1</td>\n",
              "    </tr>\n",
              "    <tr>\n",
              "      <th>4</th>\n",
              "      <td>0</td>\n",
              "      <td>1</td>\n",
              "      <td>1</td>\n",
              "      <td>-1</td>\n",
              "      <td>-1</td>\n",
              "      <td>1</td>\n",
              "      <td>1</td>\n",
              "    </tr>\n",
              "    <tr>\n",
              "      <th>5</th>\n",
              "      <td>0</td>\n",
              "      <td>1</td>\n",
              "      <td>-1</td>\n",
              "      <td>-1</td>\n",
              "      <td>-1</td>\n",
              "      <td>1</td>\n",
              "      <td>1</td>\n",
              "    </tr>\n",
              "  </tbody>\n",
              "</table>\n",
              "</div>\n",
              "    <div class=\"colab-df-buttons\">\n",
              "\n",
              "  <div class=\"colab-df-container\">\n",
              "    <button class=\"colab-df-convert\" onclick=\"convertToInteractive('df-c780b490-2b87-4ec9-a5c0-888eb4624b75')\"\n",
              "            title=\"Convert this dataframe to an interactive table.\"\n",
              "            style=\"display:none;\">\n",
              "\n",
              "  <svg xmlns=\"http://www.w3.org/2000/svg\" height=\"24px\" viewBox=\"0 -960 960 960\">\n",
              "    <path d=\"M120-120v-720h720v720H120Zm60-500h600v-160H180v160Zm220 220h160v-160H400v160Zm0 220h160v-160H400v160ZM180-400h160v-160H180v160Zm440 0h160v-160H620v160ZM180-180h160v-160H180v160Zm440 0h160v-160H620v160Z\"/>\n",
              "  </svg>\n",
              "    </button>\n",
              "\n",
              "  <style>\n",
              "    .colab-df-container {\n",
              "      display:flex;\n",
              "      gap: 12px;\n",
              "    }\n",
              "\n",
              "    .colab-df-convert {\n",
              "      background-color: #E8F0FE;\n",
              "      border: none;\n",
              "      border-radius: 50%;\n",
              "      cursor: pointer;\n",
              "      display: none;\n",
              "      fill: #1967D2;\n",
              "      height: 32px;\n",
              "      padding: 0 0 0 0;\n",
              "      width: 32px;\n",
              "    }\n",
              "\n",
              "    .colab-df-convert:hover {\n",
              "      background-color: #E2EBFA;\n",
              "      box-shadow: 0px 1px 2px rgba(60, 64, 67, 0.3), 0px 1px 3px 1px rgba(60, 64, 67, 0.15);\n",
              "      fill: #174EA6;\n",
              "    }\n",
              "\n",
              "    .colab-df-buttons div {\n",
              "      margin-bottom: 4px;\n",
              "    }\n",
              "\n",
              "    [theme=dark] .colab-df-convert {\n",
              "      background-color: #3B4455;\n",
              "      fill: #D2E3FC;\n",
              "    }\n",
              "\n",
              "    [theme=dark] .colab-df-convert:hover {\n",
              "      background-color: #434B5C;\n",
              "      box-shadow: 0px 1px 3px 1px rgba(0, 0, 0, 0.15);\n",
              "      filter: drop-shadow(0px 1px 2px rgba(0, 0, 0, 0.3));\n",
              "      fill: #FFFFFF;\n",
              "    }\n",
              "  </style>\n",
              "\n",
              "    <script>\n",
              "      const buttonEl =\n",
              "        document.querySelector('#df-c780b490-2b87-4ec9-a5c0-888eb4624b75 button.colab-df-convert');\n",
              "      buttonEl.style.display =\n",
              "        google.colab.kernel.accessAllowed ? 'block' : 'none';\n",
              "\n",
              "      async function convertToInteractive(key) {\n",
              "        const element = document.querySelector('#df-c780b490-2b87-4ec9-a5c0-888eb4624b75');\n",
              "        const dataTable =\n",
              "          await google.colab.kernel.invokeFunction('convertToInteractive',\n",
              "                                                    [key], {});\n",
              "        if (!dataTable) return;\n",
              "\n",
              "        const docLinkHtml = 'Like what you see? Visit the ' +\n",
              "          '<a target=\"_blank\" href=https://colab.research.google.com/notebooks/data_table.ipynb>data table notebook</a>'\n",
              "          + ' to learn more about interactive tables.';\n",
              "        element.innerHTML = '';\n",
              "        dataTable['output_type'] = 'display_data';\n",
              "        await google.colab.output.renderOutput(dataTable, element);\n",
              "        const docLink = document.createElement('div');\n",
              "        docLink.innerHTML = docLinkHtml;\n",
              "        element.appendChild(docLink);\n",
              "      }\n",
              "    </script>\n",
              "  </div>\n",
              "\n",
              "\n",
              "<div id=\"df-80595adf-2b72-4491-b159-f72687b81058\">\n",
              "  <button class=\"colab-df-quickchart\" onclick=\"quickchart('df-80595adf-2b72-4491-b159-f72687b81058')\"\n",
              "            title=\"Suggest charts\"\n",
              "            style=\"display:none;\">\n",
              "\n",
              "<svg xmlns=\"http://www.w3.org/2000/svg\" height=\"24px\"viewBox=\"0 0 24 24\"\n",
              "     width=\"24px\">\n",
              "    <g>\n",
              "        <path d=\"M19 3H5c-1.1 0-2 .9-2 2v14c0 1.1.9 2 2 2h14c1.1 0 2-.9 2-2V5c0-1.1-.9-2-2-2zM9 17H7v-7h2v7zm4 0h-2V7h2v10zm4 0h-2v-4h2v4z\"/>\n",
              "    </g>\n",
              "</svg>\n",
              "  </button>\n",
              "\n",
              "<style>\n",
              "  .colab-df-quickchart {\n",
              "      --bg-color: #E8F0FE;\n",
              "      --fill-color: #1967D2;\n",
              "      --hover-bg-color: #E2EBFA;\n",
              "      --hover-fill-color: #174EA6;\n",
              "      --disabled-fill-color: #AAA;\n",
              "      --disabled-bg-color: #DDD;\n",
              "  }\n",
              "\n",
              "  [theme=dark] .colab-df-quickchart {\n",
              "      --bg-color: #3B4455;\n",
              "      --fill-color: #D2E3FC;\n",
              "      --hover-bg-color: #434B5C;\n",
              "      --hover-fill-color: #FFFFFF;\n",
              "      --disabled-bg-color: #3B4455;\n",
              "      --disabled-fill-color: #666;\n",
              "  }\n",
              "\n",
              "  .colab-df-quickchart {\n",
              "    background-color: var(--bg-color);\n",
              "    border: none;\n",
              "    border-radius: 50%;\n",
              "    cursor: pointer;\n",
              "    display: none;\n",
              "    fill: var(--fill-color);\n",
              "    height: 32px;\n",
              "    padding: 0;\n",
              "    width: 32px;\n",
              "  }\n",
              "\n",
              "  .colab-df-quickchart:hover {\n",
              "    background-color: var(--hover-bg-color);\n",
              "    box-shadow: 0 1px 2px rgba(60, 64, 67, 0.3), 0 1px 3px 1px rgba(60, 64, 67, 0.15);\n",
              "    fill: var(--button-hover-fill-color);\n",
              "  }\n",
              "\n",
              "  .colab-df-quickchart-complete:disabled,\n",
              "  .colab-df-quickchart-complete:disabled:hover {\n",
              "    background-color: var(--disabled-bg-color);\n",
              "    fill: var(--disabled-fill-color);\n",
              "    box-shadow: none;\n",
              "  }\n",
              "\n",
              "  .colab-df-spinner {\n",
              "    border: 2px solid var(--fill-color);\n",
              "    border-color: transparent;\n",
              "    border-bottom-color: var(--fill-color);\n",
              "    animation:\n",
              "      spin 1s steps(1) infinite;\n",
              "  }\n",
              "\n",
              "  @keyframes spin {\n",
              "    0% {\n",
              "      border-color: transparent;\n",
              "      border-bottom-color: var(--fill-color);\n",
              "      border-left-color: var(--fill-color);\n",
              "    }\n",
              "    20% {\n",
              "      border-color: transparent;\n",
              "      border-left-color: var(--fill-color);\n",
              "      border-top-color: var(--fill-color);\n",
              "    }\n",
              "    30% {\n",
              "      border-color: transparent;\n",
              "      border-left-color: var(--fill-color);\n",
              "      border-top-color: var(--fill-color);\n",
              "      border-right-color: var(--fill-color);\n",
              "    }\n",
              "    40% {\n",
              "      border-color: transparent;\n",
              "      border-right-color: var(--fill-color);\n",
              "      border-top-color: var(--fill-color);\n",
              "    }\n",
              "    60% {\n",
              "      border-color: transparent;\n",
              "      border-right-color: var(--fill-color);\n",
              "    }\n",
              "    80% {\n",
              "      border-color: transparent;\n",
              "      border-right-color: var(--fill-color);\n",
              "      border-bottom-color: var(--fill-color);\n",
              "    }\n",
              "    90% {\n",
              "      border-color: transparent;\n",
              "      border-bottom-color: var(--fill-color);\n",
              "    }\n",
              "  }\n",
              "</style>\n",
              "\n",
              "  <script>\n",
              "    async function quickchart(key) {\n",
              "      const quickchartButtonEl =\n",
              "        document.querySelector('#' + key + ' button');\n",
              "      quickchartButtonEl.disabled = true;  // To prevent multiple clicks.\n",
              "      quickchartButtonEl.classList.add('colab-df-spinner');\n",
              "      try {\n",
              "        const charts = await google.colab.kernel.invokeFunction(\n",
              "            'suggestCharts', [key], {});\n",
              "      } catch (error) {\n",
              "        console.error('Error during call to suggestCharts:', error);\n",
              "      }\n",
              "      quickchartButtonEl.classList.remove('colab-df-spinner');\n",
              "      quickchartButtonEl.classList.add('colab-df-quickchart-complete');\n",
              "    }\n",
              "    (() => {\n",
              "      let quickchartButtonEl =\n",
              "        document.querySelector('#df-80595adf-2b72-4491-b159-f72687b81058 button');\n",
              "      quickchartButtonEl.style.display =\n",
              "        google.colab.kernel.accessAllowed ? 'block' : 'none';\n",
              "    })();\n",
              "  </script>\n",
              "</div>\n",
              "\n",
              "    </div>\n",
              "  </div>\n"
            ],
            "application/vnd.google.colaboratory.intrinsic+json": {
              "type": "dataframe",
              "variable_name": "df",
              "summary": "{\n  \"name\": \"df\",\n  \"rows\": 107,\n  \"fields\": [\n    {\n      \"column\": \"URL_Length\",\n      \"properties\": {\n        \"dtype\": \"number\",\n        \"std\": 0,\n        \"min\": -1,\n        \"max\": 1,\n        \"num_unique_values\": 3,\n        \"samples\": [\n          1,\n          0,\n          -1\n        ],\n        \"semantic_type\": \"\",\n        \"description\": \"\"\n      }\n    },\n    {\n      \"column\": \"having_At_Symbol\",\n      \"properties\": {\n        \"dtype\": \"number\",\n        \"std\": 1,\n        \"min\": -1,\n        \"max\": 1,\n        \"num_unique_values\": 2,\n        \"samples\": [\n          -1,\n          1\n        ],\n        \"semantic_type\": \"\",\n        \"description\": \"\"\n      }\n    },\n    {\n      \"column\": \"double_slash_redirecting\",\n      \"properties\": {\n        \"dtype\": \"number\",\n        \"std\": 1,\n        \"min\": -1,\n        \"max\": 1,\n        \"num_unique_values\": 2,\n        \"samples\": [\n          1,\n          -1\n        ],\n        \"semantic_type\": \"\",\n        \"description\": \"\"\n      }\n    },\n    {\n      \"column\": \"HavingHyphen\",\n      \"properties\": {\n        \"dtype\": \"number\",\n        \"std\": 0,\n        \"min\": -1,\n        \"max\": 1,\n        \"num_unique_values\": 2,\n        \"samples\": [\n          1,\n          -1\n        ],\n        \"semantic_type\": \"\",\n        \"description\": \"\"\n      }\n    },\n    {\n      \"column\": \"Page_Rank\",\n      \"properties\": {\n        \"dtype\": \"number\",\n        \"std\": 1,\n        \"min\": -1,\n        \"max\": 1,\n        \"num_unique_values\": 2,\n        \"samples\": [\n          1,\n          -1\n        ],\n        \"semantic_type\": \"\",\n        \"description\": \"\"\n      }\n    },\n    {\n      \"column\": \"Google_Index\",\n      \"properties\": {\n        \"dtype\": \"number\",\n        \"std\": 1,\n        \"min\": -1,\n        \"max\": 1,\n        \"num_unique_values\": 2,\n        \"samples\": [\n          -1,\n          1\n        ],\n        \"semantic_type\": \"\",\n        \"description\": \"\"\n      }\n    },\n    {\n      \"column\": \"Result\",\n      \"properties\": {\n        \"dtype\": \"number\",\n        \"std\": 0,\n        \"min\": -1,\n        \"max\": 1,\n        \"num_unique_values\": 2,\n        \"samples\": [\n          1,\n          -1\n        ],\n        \"semantic_type\": \"\",\n        \"description\": \"\"\n      }\n    }\n  ]\n}"
            }
          },
          "metadata": {},
          "execution_count": 32
        }
      ]
    },
    {
      "cell_type": "code",
      "source": [
        "X_pred =pd.DataFrame({'URL_Length':[URL_Length], 'having_At_Symbol':[having_At_Symbol], 'double_slash_redirecting':[double_slash_redirecting], 'HavingHyphen':[HavingHyphen], 'Page_Rank':[Page_Rank], 'Google_Index':[Google_Index]})\n",
        "X_pred.columns = X_train.columns\n",
        "X_pred"
      ],
      "metadata": {
        "execution": {
          "iopub.status.busy": "2023-05-14T09:32:57.009868Z",
          "iopub.execute_input": "2023-05-14T09:32:57.010239Z",
          "iopub.status.idle": "2023-05-14T09:32:57.030397Z",
          "shell.execute_reply.started": "2023-05-14T09:32:57.010207Z",
          "shell.execute_reply": "2023-05-14T09:32:57.029794Z"
        },
        "trusted": true,
        "id": "jPVgaEGveDh5",
        "outputId": "705cf4f7-5c75-41f1-8fe2-f0b55966d301",
        "colab": {
          "base_uri": "https://localhost:8080/",
          "height": 89
        }
      },
      "execution_count": 33,
      "outputs": [
        {
          "output_type": "execute_result",
          "data": {
            "text/plain": [
              "   URL_Length  having_At_Symbol  double_slash_redirecting  HavingHyphen  \\\n",
              "0           1                 1                         1             1   \n",
              "\n",
              "   Page_Rank  Google_Index  \n",
              "0         -1            -1  "
            ],
            "text/html": [
              "\n",
              "  <div id=\"df-65d786fd-3c25-46f1-a963-5cd39abdaa1b\" class=\"colab-df-container\">\n",
              "    <div>\n",
              "<style scoped>\n",
              "    .dataframe tbody tr th:only-of-type {\n",
              "        vertical-align: middle;\n",
              "    }\n",
              "\n",
              "    .dataframe tbody tr th {\n",
              "        vertical-align: top;\n",
              "    }\n",
              "\n",
              "    .dataframe thead th {\n",
              "        text-align: right;\n",
              "    }\n",
              "</style>\n",
              "<table border=\"1\" class=\"dataframe\">\n",
              "  <thead>\n",
              "    <tr style=\"text-align: right;\">\n",
              "      <th></th>\n",
              "      <th>URL_Length</th>\n",
              "      <th>having_At_Symbol</th>\n",
              "      <th>double_slash_redirecting</th>\n",
              "      <th>HavingHyphen</th>\n",
              "      <th>Page_Rank</th>\n",
              "      <th>Google_Index</th>\n",
              "    </tr>\n",
              "  </thead>\n",
              "  <tbody>\n",
              "    <tr>\n",
              "      <th>0</th>\n",
              "      <td>1</td>\n",
              "      <td>1</td>\n",
              "      <td>1</td>\n",
              "      <td>1</td>\n",
              "      <td>-1</td>\n",
              "      <td>-1</td>\n",
              "    </tr>\n",
              "  </tbody>\n",
              "</table>\n",
              "</div>\n",
              "    <div class=\"colab-df-buttons\">\n",
              "\n",
              "  <div class=\"colab-df-container\">\n",
              "    <button class=\"colab-df-convert\" onclick=\"convertToInteractive('df-65d786fd-3c25-46f1-a963-5cd39abdaa1b')\"\n",
              "            title=\"Convert this dataframe to an interactive table.\"\n",
              "            style=\"display:none;\">\n",
              "\n",
              "  <svg xmlns=\"http://www.w3.org/2000/svg\" height=\"24px\" viewBox=\"0 -960 960 960\">\n",
              "    <path d=\"M120-120v-720h720v720H120Zm60-500h600v-160H180v160Zm220 220h160v-160H400v160Zm0 220h160v-160H400v160ZM180-400h160v-160H180v160Zm440 0h160v-160H620v160ZM180-180h160v-160H180v160Zm440 0h160v-160H620v160Z\"/>\n",
              "  </svg>\n",
              "    </button>\n",
              "\n",
              "  <style>\n",
              "    .colab-df-container {\n",
              "      display:flex;\n",
              "      gap: 12px;\n",
              "    }\n",
              "\n",
              "    .colab-df-convert {\n",
              "      background-color: #E8F0FE;\n",
              "      border: none;\n",
              "      border-radius: 50%;\n",
              "      cursor: pointer;\n",
              "      display: none;\n",
              "      fill: #1967D2;\n",
              "      height: 32px;\n",
              "      padding: 0 0 0 0;\n",
              "      width: 32px;\n",
              "    }\n",
              "\n",
              "    .colab-df-convert:hover {\n",
              "      background-color: #E2EBFA;\n",
              "      box-shadow: 0px 1px 2px rgba(60, 64, 67, 0.3), 0px 1px 3px 1px rgba(60, 64, 67, 0.15);\n",
              "      fill: #174EA6;\n",
              "    }\n",
              "\n",
              "    .colab-df-buttons div {\n",
              "      margin-bottom: 4px;\n",
              "    }\n",
              "\n",
              "    [theme=dark] .colab-df-convert {\n",
              "      background-color: #3B4455;\n",
              "      fill: #D2E3FC;\n",
              "    }\n",
              "\n",
              "    [theme=dark] .colab-df-convert:hover {\n",
              "      background-color: #434B5C;\n",
              "      box-shadow: 0px 1px 3px 1px rgba(0, 0, 0, 0.15);\n",
              "      filter: drop-shadow(0px 1px 2px rgba(0, 0, 0, 0.3));\n",
              "      fill: #FFFFFF;\n",
              "    }\n",
              "  </style>\n",
              "\n",
              "    <script>\n",
              "      const buttonEl =\n",
              "        document.querySelector('#df-65d786fd-3c25-46f1-a963-5cd39abdaa1b button.colab-df-convert');\n",
              "      buttonEl.style.display =\n",
              "        google.colab.kernel.accessAllowed ? 'block' : 'none';\n",
              "\n",
              "      async function convertToInteractive(key) {\n",
              "        const element = document.querySelector('#df-65d786fd-3c25-46f1-a963-5cd39abdaa1b');\n",
              "        const dataTable =\n",
              "          await google.colab.kernel.invokeFunction('convertToInteractive',\n",
              "                                                    [key], {});\n",
              "        if (!dataTable) return;\n",
              "\n",
              "        const docLinkHtml = 'Like what you see? Visit the ' +\n",
              "          '<a target=\"_blank\" href=https://colab.research.google.com/notebooks/data_table.ipynb>data table notebook</a>'\n",
              "          + ' to learn more about interactive tables.';\n",
              "        element.innerHTML = '';\n",
              "        dataTable['output_type'] = 'display_data';\n",
              "        await google.colab.output.renderOutput(dataTable, element);\n",
              "        const docLink = document.createElement('div');\n",
              "        docLink.innerHTML = docLinkHtml;\n",
              "        element.appendChild(docLink);\n",
              "      }\n",
              "    </script>\n",
              "  </div>\n",
              "\n",
              "\n",
              "  <div id=\"id_4912fcd1-d142-45cb-aad0-7ccaeb80b1fd\">\n",
              "    <style>\n",
              "      .colab-df-generate {\n",
              "        background-color: #E8F0FE;\n",
              "        border: none;\n",
              "        border-radius: 50%;\n",
              "        cursor: pointer;\n",
              "        display: none;\n",
              "        fill: #1967D2;\n",
              "        height: 32px;\n",
              "        padding: 0 0 0 0;\n",
              "        width: 32px;\n",
              "      }\n",
              "\n",
              "      .colab-df-generate:hover {\n",
              "        background-color: #E2EBFA;\n",
              "        box-shadow: 0px 1px 2px rgba(60, 64, 67, 0.3), 0px 1px 3px 1px rgba(60, 64, 67, 0.15);\n",
              "        fill: #174EA6;\n",
              "      }\n",
              "\n",
              "      [theme=dark] .colab-df-generate {\n",
              "        background-color: #3B4455;\n",
              "        fill: #D2E3FC;\n",
              "      }\n",
              "\n",
              "      [theme=dark] .colab-df-generate:hover {\n",
              "        background-color: #434B5C;\n",
              "        box-shadow: 0px 1px 3px 1px rgba(0, 0, 0, 0.15);\n",
              "        filter: drop-shadow(0px 1px 2px rgba(0, 0, 0, 0.3));\n",
              "        fill: #FFFFFF;\n",
              "      }\n",
              "    </style>\n",
              "    <button class=\"colab-df-generate\" onclick=\"generateWithVariable('X_pred')\"\n",
              "            title=\"Generate code using this dataframe.\"\n",
              "            style=\"display:none;\">\n",
              "\n",
              "  <svg xmlns=\"http://www.w3.org/2000/svg\" height=\"24px\"viewBox=\"0 0 24 24\"\n",
              "       width=\"24px\">\n",
              "    <path d=\"M7,19H8.4L18.45,9,17,7.55,7,17.6ZM5,21V16.75L18.45,3.32a2,2,0,0,1,2.83,0l1.4,1.43a1.91,1.91,0,0,1,.58,1.4,1.91,1.91,0,0,1-.58,1.4L9.25,21ZM18.45,9,17,7.55Zm-12,3A5.31,5.31,0,0,0,4.9,8.1,5.31,5.31,0,0,0,1,6.5,5.31,5.31,0,0,0,4.9,4.9,5.31,5.31,0,0,0,6.5,1,5.31,5.31,0,0,0,8.1,4.9,5.31,5.31,0,0,0,12,6.5,5.46,5.46,0,0,0,6.5,12Z\"/>\n",
              "  </svg>\n",
              "    </button>\n",
              "    <script>\n",
              "      (() => {\n",
              "      const buttonEl =\n",
              "        document.querySelector('#id_4912fcd1-d142-45cb-aad0-7ccaeb80b1fd button.colab-df-generate');\n",
              "      buttonEl.style.display =\n",
              "        google.colab.kernel.accessAllowed ? 'block' : 'none';\n",
              "\n",
              "      buttonEl.onclick = () => {\n",
              "        google.colab.notebook.generateWithVariable('X_pred');\n",
              "      }\n",
              "      })();\n",
              "    </script>\n",
              "  </div>\n",
              "\n",
              "    </div>\n",
              "  </div>\n"
            ],
            "application/vnd.google.colaboratory.intrinsic+json": {
              "type": "dataframe",
              "variable_name": "X_pred",
              "summary": "{\n  \"name\": \"X_pred\",\n  \"rows\": 1,\n  \"fields\": [\n    {\n      \"column\": \"URL_Length\",\n      \"properties\": {\n        \"dtype\": \"number\",\n        \"std\": null,\n        \"min\": 1,\n        \"max\": 1,\n        \"num_unique_values\": 1,\n        \"samples\": [\n          1\n        ],\n        \"semantic_type\": \"\",\n        \"description\": \"\"\n      }\n    },\n    {\n      \"column\": \"having_At_Symbol\",\n      \"properties\": {\n        \"dtype\": \"number\",\n        \"std\": null,\n        \"min\": 1,\n        \"max\": 1,\n        \"num_unique_values\": 1,\n        \"samples\": [\n          1\n        ],\n        \"semantic_type\": \"\",\n        \"description\": \"\"\n      }\n    },\n    {\n      \"column\": \"double_slash_redirecting\",\n      \"properties\": {\n        \"dtype\": \"number\",\n        \"std\": null,\n        \"min\": 1,\n        \"max\": 1,\n        \"num_unique_values\": 1,\n        \"samples\": [\n          1\n        ],\n        \"semantic_type\": \"\",\n        \"description\": \"\"\n      }\n    },\n    {\n      \"column\": \"HavingHyphen\",\n      \"properties\": {\n        \"dtype\": \"number\",\n        \"std\": null,\n        \"min\": 1,\n        \"max\": 1,\n        \"num_unique_values\": 1,\n        \"samples\": [\n          1\n        ],\n        \"semantic_type\": \"\",\n        \"description\": \"\"\n      }\n    },\n    {\n      \"column\": \"Page_Rank\",\n      \"properties\": {\n        \"dtype\": \"number\",\n        \"std\": null,\n        \"min\": -1,\n        \"max\": -1,\n        \"num_unique_values\": 1,\n        \"samples\": [\n          -1\n        ],\n        \"semantic_type\": \"\",\n        \"description\": \"\"\n      }\n    },\n    {\n      \"column\": \"Google_Index\",\n      \"properties\": {\n        \"dtype\": \"number\",\n        \"std\": null,\n        \"min\": -1,\n        \"max\": -1,\n        \"num_unique_values\": 1,\n        \"samples\": [\n          -1\n        ],\n        \"semantic_type\": \"\",\n        \"description\": \"\"\n      }\n    }\n  ]\n}"
            }
          },
          "metadata": {},
          "execution_count": 33
        }
      ]
    },
    {
      "cell_type": "code",
      "source": [
        "LG.predict(X_pred)"
      ],
      "metadata": {
        "execution": {
          "iopub.status.busy": "2023-05-14T09:32:57.031631Z",
          "iopub.execute_input": "2023-05-14T09:32:57.031865Z",
          "iopub.status.idle": "2023-05-14T09:32:57.042822Z",
          "shell.execute_reply.started": "2023-05-14T09:32:57.031844Z",
          "shell.execute_reply": "2023-05-14T09:32:57.04163Z"
        },
        "trusted": true,
        "id": "M7c9BXD8eDh6",
        "outputId": "62464601-c236-4e34-8167-d662f5eb802c",
        "colab": {
          "base_uri": "https://localhost:8080/"
        }
      },
      "execution_count": 34,
      "outputs": [
        {
          "output_type": "execute_result",
          "data": {
            "text/plain": [
              "array([1])"
            ]
          },
          "metadata": {},
          "execution_count": 34
        }
      ]
    },
    {
      "cell_type": "markdown",
      "source": [
        "# > *Saving the model*"
      ],
      "metadata": {
        "id": "S2xffaESeDh6"
      }
    },
    {
      "cell_type": "code",
      "source": [
        "import pickle\n",
        "\n",
        "# Save the model to a file using pickle\n",
        "filename = 'logistic_regression_model.pkl'\n",
        "with open(filename, 'wb') as file:\n",
        "    pickle.dump(LG, file)"
      ],
      "metadata": {
        "execution": {
          "iopub.status.busy": "2023-05-14T09:32:57.043915Z",
          "iopub.execute_input": "2023-05-14T09:32:57.044293Z",
          "iopub.status.idle": "2023-05-14T09:32:57.050897Z",
          "shell.execute_reply.started": "2023-05-14T09:32:57.044267Z",
          "shell.execute_reply": "2023-05-14T09:32:57.049739Z"
        },
        "trusted": true,
        "id": "T5DeyvqteDh6"
      },
      "execution_count": 35,
      "outputs": []
    },
    {
      "cell_type": "code",
      "source": [
        "# Load the model from the pickle file\n",
        "filename = 'logistic_regression_model.pkl'\n",
        "with open(filename, 'rb') as file:\n",
        "    loaded_model = pickle.load(file)\n",
        "\n",
        "# Use the loaded model for predictions\n",
        "loaded_model.predict(X_pred)"
      ],
      "metadata": {
        "execution": {
          "iopub.status.busy": "2023-05-14T09:32:57.052161Z",
          "iopub.execute_input": "2023-05-14T09:32:57.052445Z",
          "iopub.status.idle": "2023-05-14T09:32:57.070213Z",
          "shell.execute_reply.started": "2023-05-14T09:32:57.05242Z",
          "shell.execute_reply": "2023-05-14T09:32:57.068947Z"
        },
        "trusted": true,
        "id": "36mQ-5n3eDh6",
        "outputId": "455f26e7-966c-4214-f019-b7a654573e4a",
        "colab": {
          "base_uri": "https://localhost:8080/"
        }
      },
      "execution_count": 36,
      "outputs": [
        {
          "output_type": "execute_result",
          "data": {
            "text/plain": [
              "array([1])"
            ]
          },
          "metadata": {},
          "execution_count": 36
        }
      ]
    },
    {
      "cell_type": "code",
      "source": [
        "import requests\n",
        "from urllib.parse import urlparse\n",
        "import re\n",
        "from bs4 import BeautifulSoup\n",
        "import pandas as pd\n",
        "import pickle\n",
        "\n",
        "# URL\n",
        "url = 'http://125.98.3.123/fake-@.html'\n",
        "\n",
        "# URL Length\n",
        "url_len = len(url)\n",
        "URL_Length = -1\n",
        "if url_len < 54:\n",
        "    URL_Length = 1\n",
        "elif url_len >= 54 and url_len <= 75:\n",
        "    URL_Length = 0\n",
        "\n",
        "# Having At Symbol\n",
        "having_At_Symbol = -1\n",
        "if url.find(\"@\") == -1:\n",
        "    having_At_Symbol = 1\n",
        "\n",
        "# Double Slash Redirecting\n",
        "double_slash_redirecting = -1\n",
        "try:\n",
        "    position = url.index(\"//\")\n",
        "    if position + 1 > 7:\n",
        "        double_slash_redirecting = -1\n",
        "    else:\n",
        "        double_slash_redirecting = 1\n",
        "except ValueError:\n",
        "    pass\n",
        "\n",
        "# Having Hyphen\n",
        "HavingHyphen = -1\n",
        "if url.find(\"-\") == -1:\n",
        "    HavingHyphen = 1\n",
        "\n",
        "# Get PageRank using API (replace with your API key)\n",
        "API_KEY = 'YOUR_API_KEY'\n",
        "headers = {'API-OPR': API_KEY}\n",
        "parsed_url = urlparse(url)\n",
        "domain = parsed_url.netloc\n",
        "api_url = 'https://openpagerank.com/api/v1.0/getPageRank?domains%5B0%5D=' + domain\n",
        "try:\n",
        "    response = requests.get(api_url, headers=headers)\n",
        "    result = response.json()\n",
        "    page_rank = result['response'][0]['page_rank_decimal']\n",
        "    if page_rank < 20:\n",
        "        Page_Rank = -1\n",
        "    else:\n",
        "        Page_Rank = 1\n",
        "except Exception as e:\n",
        "    print(\"Error accessing PageRank API:\", e)\n",
        "    Page_Rank = -1\n",
        "\n",
        "# Check if URL is indexed by Google\n",
        "google_search_url = \"https://www.google.com/search?q=site:\" + domain + \"&hl=en\"\n",
        "try:\n",
        "    response = requests.get(google_search_url, cookies={\"CONSENT\": \"YES+1\"})\n",
        "    soup = BeautifulSoup(response.content, \"html.parser\")\n",
        "    not_indexed = re.compile(\"did not match any documents\")\n",
        "    if soup(text=not_indexed):\n",
        "        Google_Index = -1\n",
        "    else:\n",
        "        Google_Index = 1\n",
        "except Exception as e:\n",
        "    print(\"Error accessing Google search results:\", e)\n",
        "    Google_Index = -1\n",
        "\n",
        "# Create DataFrame for prediction\n",
        "X_pred = pd.DataFrame({'URL_Length': [URL_Length],\n",
        "                       'having_At_Symbol': [having_At_Symbol],\n",
        "                       'double_slash_redirecting': [double_slash_redirecting],\n",
        "                       'HavingHyphen': [HavingHyphen],\n",
        "                       'Page_Rank': [Page_Rank],\n",
        "                       'Google_Index': [Google_Index]})\n",
        "\n",
        "# Load the saved model\n",
        "filename = 'logistic_regression_model.pkl'\n",
        "with open(filename, 'rb') as file:\n",
        "    loaded_model = pickle.load(file)\n",
        "\n",
        "# Make prediction\n",
        "prediction = loaded_model.predict(X_pred)\n",
        "\n",
        "# Print result\n",
        "if prediction == 1:\n",
        "    print(\"The URL is legitimate.\")\n",
        "elif prediction == 0:\n",
        "    print(\"The URL is suspicious.\")\n",
        "else:\n",
        "    print(\"The URL is phishing.\")\n"
      ],
      "metadata": {
        "id": "9ucgAaVeeMjD",
        "outputId": "bc3dd790-6406-4b10-9ea4-299d12db74f7",
        "colab": {
          "base_uri": "https://localhost:8080/"
        }
      },
      "execution_count": 48,
      "outputs": [
        {
          "output_type": "stream",
          "name": "stdout",
          "text": [
            "Error accessing PageRank API: 'response'\n",
            "The URL is phishing.\n"
          ]
        }
      ]
    }
  ]
}